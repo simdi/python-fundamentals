{
 "cells": [
  {
   "cell_type": "code",
   "execution_count": 7,
   "metadata": {},
   "outputs": [
    {
     "data": {
      "text/plain": [
       "0     True\n",
       "1     True\n",
       "2    False\n",
       "dtype: bool"
      ]
     },
     "execution_count": 7,
     "metadata": {},
     "output_type": "execute_result"
    }
   ],
   "source": [
    "import pandas as pd\n",
    "\n",
    "grades = pd.Series([87, 100, 94])\n",
    "\n",
    "# You can also do descriptive statistics on a series\n",
    "grades.count()\n",
    "grades.mean()\n",
    "grades.min()\n",
    "grades.max()\n",
    "grades.std()\n",
    "\n",
    "# You can also get to know your data by using the describe method\n",
    "grades.describe()\n",
    "# count      3.000000\n",
    "# mean      93.666667\n",
    "# std        6.506407\n",
    "# min       87.000000\n",
    "# 25%       90.500000 Median of the first half of the data set. 87 + 94 / 2 = 90.5\n",
    "# 50%       94.000000 Median of the whole data set. 87 + 94 + 100 / 3 = 93.666\n",
    "# 75%       97.000000 Median of the second half of the data set. 94 + 100 / 2 = 97\n",
    "# max      100.000000\n",
    "\n",
    "# Creating a series from a dictionary\n",
    "grades = pd.Series({'Wally': 87, 'Eva': 100, 'Sam': 94})\n",
    "\n",
    "#  Creating a series with custom indexes\n",
    "grades = pd.Series([87, 100, 94], index=['Wally', 'Eva', 'Sam'])\n",
    "\n",
    "# Get the type of the series\n",
    "grades.dtype # dtype('int64')\n",
    "\n",
    "# Get the number of elements in the series\n",
    "grades.size # 3\n",
    "\n",
    "hardware = pd.Series(['Hammer', 'Saw', 'Wrench'])\n",
    "\n",
    "hardware.str.contains('a') # True if the string contains the letter 'a'\n",
    "# 0     True\n",
    "# 1     True\n",
    "# 2    False\n",
    "# dtype: bool"
   ]
  },
  {
   "cell_type": "markdown",
   "metadata": {},
   "source": [
    "Self-check pandas series"
   ]
  },
  {
   "cell_type": "code",
   "execution_count": 10,
   "metadata": {},
   "outputs": [
    {
     "name": "stdout",
     "output_type": "stream",
     "text": [
      "0    78\n",
      "1    73\n",
      "2    94\n",
      "3    69\n",
      "4    99\n",
      "5    72\n",
      "6    81\n",
      "7    80\n",
      "8    94\n",
      "9    65\n",
      "dtype: int64\n",
      "65\n",
      "99\n",
      "80.5\n"
     ]
    },
    {
     "data": {
      "text/plain": [
       "count    10.000000\n",
       "mean     80.500000\n",
       "std      11.616559\n",
       "min      65.000000\n",
       "25%      72.250000\n",
       "50%      79.000000\n",
       "75%      90.750000\n",
       "max      99.000000\n",
       "dtype: float64"
      ]
     },
     "execution_count": 10,
     "metadata": {},
     "output_type": "execute_result"
    }
   ],
   "source": [
    "# Use the Numpy's random number generation to create an array of integer that represent summertime temperatures in the range of 60 to 100\n",
    "# then perform the following tasks:\n",
    "# 1. Create an array into the Series names temperatures and display it.\n",
    "# 2. Determine the lowest,highest, and average temperatures.\n",
    "# 3. Produce descriptive statistics from the temperatures Series.\n",
    "\n",
    "import numpy as np\n",
    "\n",
    "temperatures = pd.Series(np.random.randint(60, 101, 10))\n",
    "print(temperatures)\n",
    "# 0    78\n",
    "# 1    73\n",
    "# 2    94\n",
    "# 3    69\n",
    "# 4    99\n",
    "# 5    72\n",
    "# 6    81\n",
    "# 7    80\n",
    "# 8    94\n",
    "# 9    65\n",
    "# dtype: int64\n",
    "temperatures.min() # 65\n",
    "temperatures.max() # 99\n",
    "temperatures.mean() # 80.5\n",
    "temperatures.describe()\n",
    "# count    10.000000\n",
    "# mean     80.500000\n",
    "# std      11.616559\n",
    "# min      65.000000\n",
    "# 25%      72.250000\n",
    "# 50%      79.000000\n",
    "# 75%      90.750000\n",
    "# max      99.000000\n",
    "# dtype: float64"
   ]
  }
 ],
 "metadata": {
  "kernelspec": {
   "display_name": "Python 3.9.7 ('base')",
   "language": "python",
   "name": "python3"
  },
  "language_info": {
   "codemirror_mode": {
    "name": "ipython",
    "version": 3
   },
   "file_extension": ".py",
   "mimetype": "text/x-python",
   "name": "python",
   "nbconvert_exporter": "python",
   "pygments_lexer": "ipython3",
   "version": "3.9.7"
  },
  "orig_nbformat": 4,
  "vscode": {
   "interpreter": {
    "hash": "cd78fef2128015050713e82ca51c6520b11aee7c9ee8df750520bbbc7384cbaa"
   }
  }
 },
 "nbformat": 4,
 "nbformat_minor": 2
}
