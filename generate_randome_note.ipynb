{
 "cells": [
  {
   "cell_type": "code",
   "execution_count": null,
   "metadata": {},
   "outputs": [],
   "source": [
    "# Input Array of English words ['apple', 'banana', 'cabbage'];\n",
    "# Rules: 1. The word that you generate should start with a, b, or c,\n",
    "# 2. The word should only end with e or a\n",
    "# 3. a, next letter can only be p, n, b, or g\n",
    "# sample: 'abage', 'bage', 'capple', 'a'\n",
    "\n",
    "# Possible Solution\n",
    "# Pick the first character in each word\n",
    "# Pick the last unique characters in each word\n",
    "# Function that would generate successive characters.\n",
    "\n",
    "def generateSuccessor(str, arr):\n",
    "  # 'a', ['apple']\n",
    "  # {“a”:[“p”, “n”, “b”, “g”]}\n",
    "  # {“b”:[“b”, “a”]}\n",
    "  # {“c”:[“a”]}\n",
    "  succCharacters = \n"
   ]
  }
 ],
 "metadata": {
  "kernelspec": {
   "display_name": "Python 3.10.2 64-bit",
   "language": "python",
   "name": "python3"
  },
  "language_info": {
   "name": "python",
   "version": "3.10.2"
  },
  "orig_nbformat": 4,
  "vscode": {
   "interpreter": {
    "hash": "aee8b7b246df8f9039afb4144a1f6fd8d2ca17a180786b69acc140d282b71a49"
   }
  }
 },
 "nbformat": 4,
 "nbformat_minor": 2
}
