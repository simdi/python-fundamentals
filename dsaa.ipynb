{
 "cells": [
  {
   "cell_type": "code",
   "execution_count": 18,
   "metadata": {},
   "outputs": [
    {
     "data": {
      "text/plain": [
       "True"
      ]
     },
     "execution_count": 18,
     "metadata": {},
     "output_type": "execute_result"
    }
   ],
   "source": [
    "# Write a program to find the position of a given number in a list of numbers arranged in descending order.\n",
    "# We also need to minimize the number of times we access elements of the list.\n",
    "\n",
    "def find_pos(arr, n):\n",
    "  # Time Complexity: O(n)\n",
    "  # for i in range(len(arr)):\n",
    "  #     if arr[i] == n:\n",
    "  #         return i\n",
    "  # return None;\n",
    "\n",
    "  # Time Complexity: O(log n)\n",
    "  left = 0\n",
    "  right = len(arr) - 1\n",
    "  while left <= right:\n",
    "    mid = (left + right) // 2\n",
    "    if arr[mid] == n:\n",
    "      return mid\n",
    "    elif arr[mid] < n:\n",
    "      right = mid - 1\n",
    "    else:\n",
    "      left = mid + 1\n",
    "\n",
    "  return None\n",
    "\n",
    "# Test cases\n",
    "test = {\n",
    "  'input': {\n",
    "    'arr': [13, 12, 11, 7, 3, 1, 0],\n",
    "    'n': 7\n",
    "  },\n",
    "  'output': 3\n",
    "}\n",
    "test2 = {\n",
    "  'input': {\n",
    "    'arr': [13, 12, 11, 7, 3, 1, 0],\n",
    "    'n': 1\n",
    "  },\n",
    "  'output': 5\n",
    "}\n",
    "\n",
    "find_pos(**test['input']) == test['output']\n",
    "find_pos(**test2['input']) == test2['output']\n"
   ]
  },
  {
   "cell_type": "code",
   "execution_count": 28,
   "metadata": {},
   "outputs": [
    {
     "data": {
      "text/plain": [
       "'aaabccdfgg'"
      ]
     },
     "execution_count": 28,
     "metadata": {},
     "output_type": "execute_result"
    }
   ],
   "source": [
    "import random\n",
    "# function to generate random words from a given list of english words\n",
    "\n",
    "def generate_note(words):\n",
    "  pass\n",
    "\n",
    "test = {\n",
    "  'input': {\n",
    "    'words': ['apple', 'banana', 'cabbage']\n",
    "  },\n",
    "  'output': ['abage', 'bage', 'capple', 'a']\n",
    "}\n"
   ]
  },
  {
   "cell_type": "code",
   "execution_count": 55,
   "metadata": {},
   "outputs": [
    {
     "data": {
      "text/plain": [
       "True"
      ]
     },
     "execution_count": 55,
     "metadata": {},
     "output_type": "execute_result"
    }
   ],
   "source": [
    "# This problem was asked by LinkedIn.\n",
    "# Given a list of points, a central point, and an integer k, find the nearest k points from the central point.\n",
    "# For example, given the list of points [(0, 0), (5, 4), (3, 1)], the central point (1, 2), and k = 2, return [(0, 0), (3, 1)]\n",
    "# because those are the two nearest points to (1, 2).\n",
    "\n",
    "def nearest_points(points, central_point, k):\n",
    "  # calculate the distance between each point and the central point\n",
    "  # sort the points by distance\n",
    "  # return the first k points\n",
    "  distance = lambda p: (p[0] - central_point[0]) ** 2 + (p[1] - central_point[1]) ** 2\n",
    "  distances = {}\n",
    "  \n",
    "  for point in points:\n",
    "    distances[point] = distance(point)\n",
    "\n",
    "  sorted_points = sorted(distances, key=distances.get)\n",
    "  return sorted_points[:k]\n",
    "\n",
    "test = {\n",
    "  'input': {\n",
    "    'points': [(0, 0), (5, 4), (3, 1)],\n",
    "    'central_point': (1, 2),\n",
    "    'k': 2\n",
    "  },\n",
    "  'output': [(0, 0), (3, 1)]\n",
    "}\n",
    "\n",
    "nearest_points(**test['input']) == test['output']"
   ]
  },
  {
   "cell_type": "code",
   "execution_count": 56,
   "metadata": {},
   "outputs": [
    {
     "data": {
      "text/plain": [
       "False"
      ]
     },
     "execution_count": 56,
     "metadata": {},
     "output_type": "execute_result"
    }
   ],
   "source": [
    "# The 24 game is played as follows. You are given a list of four integers, each between 1 and 9, in a fixed order.\n",
    "# By placing the operators +, -, *, and / between the numbers, and grouping them with parentheses,\n",
    "# determine the value of the expression.\n",
    "\n",
    "# For example, given the list [1, 2, 3, 4], you should return True. (1 * 2 * 3 * 4)\n",
    "# For example, given the input [5, 2, 7, 8], you should return True. (5 * 2 - 7) + 8)\n",
    "\n",
    "def game_24(arr):\n",
    "\n",
    "test = {\n",
    "  'input': {\n",
    "    'arr': [1, 2, 3, 4]\n",
    "  },\n",
    "  'output': True\n",
    "}\n",
    "test2 = {\n",
    "  'input': {\n",
    "    'arr': [5, 2, 7, 8]\n",
    "  },\n",
    "  'output': True\n",
    "}\n",
    "\n",
    "game_24(**test['input']) == test['output']"
   ]
  },
  {
   "cell_type": "code",
   "execution_count": 63,
   "metadata": {},
   "outputs": [
    {
     "data": {
      "text/plain": [
       "True"
      ]
     },
     "execution_count": 63,
     "metadata": {},
     "output_type": "execute_result"
    }
   ],
   "source": [
    "# Implement integer exponentiation. That is, implement the pow(x, y) function, where x and y are integers and returns x^y.\n",
    "\n",
    "def get_pow(x, y):\n",
    "  if y == 0:\n",
    "    return 1\n",
    "  if y == 1:\n",
    "    return x\n",
    "  if y % 2 == 0:\n",
    "    return pow(x * x, y // 2)\n",
    "  else:\n",
    "    return x * pow(x * x, y // 2)\n",
    "\n",
    "test = {\n",
    "  'input': {\n",
    "    'x': 2,\n",
    "    'y': 3\n",
    "  },\n",
    "  'output': 8\n",
    "}\n",
    "test2 = {\n",
    "  'input': {\n",
    "    'x': 2,\n",
    "    'y': 4\n",
    "  },\n",
    "  'output': 16\n",
    "}\n",
    "test3 = {\n",
    "  'input': {\n",
    "    'x': 2,\n",
    "    'y': 10\n",
    "  },\n",
    "  'output': 1024\n",
    "}\n",
    "\n",
    "pow(**test['input']) == test['output']\n",
    "pow(**test2['input']) == test2['output']\n",
    "pow(**test3['input']) == test3['output']"
   ]
  }
 ],
 "metadata": {
  "kernelspec": {
   "display_name": "Python 3.10.2 64-bit",
   "language": "python",
   "name": "python3"
  },
  "language_info": {
   "codemirror_mode": {
    "name": "ipython",
    "version": 3
   },
   "file_extension": ".py",
   "mimetype": "text/x-python",
   "name": "python",
   "nbconvert_exporter": "python",
   "pygments_lexer": "ipython3",
   "version": "3.10.2"
  },
  "orig_nbformat": 4,
  "vscode": {
   "interpreter": {
    "hash": "aee8b7b246df8f9039afb4144a1f6fd8d2ca17a180786b69acc140d282b71a49"
   }
  }
 },
 "nbformat": 4,
 "nbformat_minor": 2
}
