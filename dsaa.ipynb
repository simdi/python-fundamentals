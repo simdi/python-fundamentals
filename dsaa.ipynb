{
 "cells": [
  {
   "cell_type": "code",
   "execution_count": 18,
   "metadata": {},
   "outputs": [
    {
     "data": {
      "text/plain": [
       "True"
      ]
     },
     "execution_count": 18,
     "metadata": {},
     "output_type": "execute_result"
    }
   ],
   "source": [
    "# Write a program to find the position of a given number in a list of numbers arranged in descending order.\n",
    "# We also need to minimize the number of times we access elements of the list.\n",
    "\n",
    "def find_pos(arr, n):\n",
    "  # Time Complexity: O(n)\n",
    "  # for i in range(len(arr)):\n",
    "  #     if arr[i] == n:\n",
    "  #         return i\n",
    "  # return None;\n",
    "\n",
    "  # Time Complexity: O(log n)\n",
    "  left = 0\n",
    "  right = len(arr) - 1\n",
    "  while left <= right:\n",
    "    mid = (left + right) // 2\n",
    "    if arr[mid] == n:\n",
    "      return mid\n",
    "    elif arr[mid] < n:\n",
    "      right = mid - 1\n",
    "    else:\n",
    "      left = mid + 1\n",
    "\n",
    "  return None\n",
    "\n",
    "# Test cases\n",
    "test = {\n",
    "  'input': {\n",
    "    'arr': [13, 12, 11, 7, 3, 1, 0],\n",
    "    'n': 7\n",
    "  },\n",
    "  'output': 3\n",
    "}\n",
    "test2 = {\n",
    "  'input': {\n",
    "    'arr': [13, 12, 11, 7, 3, 1, 0],\n",
    "    'n': 1\n",
    "  },\n",
    "  'output': 5\n",
    "}\n",
    "\n",
    "find_pos(**test['input']) == test['output']\n",
    "find_pos(**test2['input']) == test2['output']\n"
   ]
  },
  {
   "cell_type": "code",
   "execution_count": 28,
   "metadata": {},
   "outputs": [
    {
     "data": {
      "text/plain": [
       "'aaabccdfgg'"
      ]
     },
     "execution_count": 28,
     "metadata": {},
     "output_type": "execute_result"
    }
   ],
   "source": [
    "import random\n",
    "# function to generate random words from a given list of english words\n",
    "\n",
    "def generate_note(words):\n",
    "  pass\n",
    "\n",
    "test = {\n",
    "  'input': {\n",
    "    'words': ['apple', 'banana', 'cabbage']\n",
    "  },\n",
    "  'output': ['abage', 'bage', 'capple', 'a']\n",
    "}\n"
   ]
  },
  {
   "cell_type": "code",
   "execution_count": 55,
   "metadata": {},
   "outputs": [
    {
     "data": {
      "text/plain": [
       "True"
      ]
     },
     "execution_count": 55,
     "metadata": {},
     "output_type": "execute_result"
    }
   ],
   "source": [
    "# This problem was asked by LinkedIn.\n",
    "# Given a list of points, a central point, and an integer k, find the nearest k points from the central point.\n",
    "# For example, given the list of points [(0, 0), (5, 4), (3, 1)], the central point (1, 2), and k = 2, return [(0, 0), (3, 1)]\n",
    "# because those are the two nearest points to (1, 2).\n",
    "\n",
    "def nearest_points(points, central_point, k):\n",
    "  # calculate the distance between each point and the central point\n",
    "  # sort the points by distance\n",
    "  # return the first k points\n",
    "  distance = lambda p: (p[0] - central_point[0]) ** 2 + (p[1] - central_point[1]) ** 2\n",
    "  distances = {}\n",
    "  \n",
    "  for point in points:\n",
    "    distances[point] = distance(point)\n",
    "\n",
    "  sorted_points = sorted(distances, key=distances.get)\n",
    "  return sorted_points[:k]\n",
    "\n",
    "test = {\n",
    "  'input': {\n",
    "    'points': [(0, 0), (5, 4), (3, 1)],\n",
    "    'central_point': (1, 2),\n",
    "    'k': 2\n",
    "  },\n",
    "  'output': [(0, 0), (3, 1)]\n",
    "}\n",
    "\n",
    "nearest_points(**test['input']) == test['output']"
   ]
  },
  {
   "cell_type": "code",
   "execution_count": 56,
   "metadata": {},
   "outputs": [
    {
     "data": {
      "text/plain": [
       "False"
      ]
     },
     "execution_count": 56,
     "metadata": {},
     "output_type": "execute_result"
    }
   ],
   "source": [
    "# The 24 game is played as follows. You are given a list of four integers, each between 1 and 9, in a fixed order.\n",
    "# By placing the operators +, -, *, and / between the numbers, and grouping them with parentheses,\n",
    "# determine the value of the expression.\n",
    "\n",
    "# For example, given the list [1, 2, 3, 4], you should return True. (1 * 2 * 3 * 4)\n",
    "# For example, given the input [5, 2, 7, 8], you should return True. (5 * 2 - 7) + 8)\n",
    "\n",
    "def game_24(arr):\n",
    "\n",
    "test = {\n",
    "  'input': {\n",
    "    'arr': [1, 2, 3, 4]\n",
    "  },\n",
    "  'output': True\n",
    "}\n",
    "test2 = {\n",
    "  'input': {\n",
    "    'arr': [5, 2, 7, 8]\n",
    "  },\n",
    "  'output': True\n",
    "}\n",
    "\n",
    "game_24(**test['input']) == test['output']"
   ]
  },
  {
   "cell_type": "code",
   "execution_count": 63,
   "metadata": {},
   "outputs": [
    {
     "data": {
      "text/plain": [
       "True"
      ]
     },
     "execution_count": 63,
     "metadata": {},
     "output_type": "execute_result"
    }
   ],
   "source": [
    "# Implement integer exponentiation. That is, implement the pow(x, y) function, where x and y are integers and returns x^y.\n",
    "\n",
    "def get_pow(x, y):\n",
    "  if y == 0:\n",
    "    return 1\n",
    "  if y == 1:\n",
    "    return x\n",
    "  if y % 2 == 0:\n",
    "    return pow(x * x, y // 2)\n",
    "  else:\n",
    "    return x * pow(x * x, y // 2)\n",
    "\n",
    "test = {\n",
    "  'input': {\n",
    "    'x': 2,\n",
    "    'y': 3\n",
    "  },\n",
    "  'output': 8\n",
    "}\n",
    "test2 = {\n",
    "  'input': {\n",
    "    'x': 2,\n",
    "    'y': 4\n",
    "  },\n",
    "  'output': 16\n",
    "}\n",
    "test3 = {\n",
    "  'input': {\n",
    "    'x': 2,\n",
    "    'y': 10\n",
    "  },\n",
    "  'output': 1024\n",
    "}\n",
    "\n",
    "pow(**test['input']) == test['output']\n",
    "pow(**test2['input']) == test2['output']\n",
    "pow(**test3['input']) == test3['output']"
   ]
  },
  {
   "cell_type": "code",
   "execution_count": null,
   "metadata": {},
   "outputs": [],
   "source": [
    "# Given a 2-D matrix representing an image, a location of a pixel in the screen and a color C,\n",
    "# replace the color of the given pixel and all adjacent pixels of the same color with C.\n",
    "# For example, given the following matrix, and the location of the pixel in the screen (row, col) = (2, 2), and C = 1,\n",
    "# the new im\n",
    "\n",
    "def replace_color(matrix, row, col, color):\n",
    "  # Time Complexity: O(n)\n",
    "  for i in range(len(matrix)):\n",
    "      for j in range(len(matrix[i])):\n",
    "          if matrix[i][j] == 1:\n",
    "              matrix[i][j] = color\n",
    "  return matrix;\n",
    "\n",
    "test = {\n",
    "  'input': {\n",
    "    'matrix': [[0, 0, 0, 0],\n",
    "                [0, 1, 1, 0],\n",
    "                [0, 1, 1, 0],\n",
    "                [0, 0, 0, 0]],\n",
    "    'row': 2,"
   ]
  },
  {
   "cell_type": "markdown",
   "metadata": {},
   "source": [
    "Fibonacci Sequence"
   ]
  },
  {
   "cell_type": "code",
   "execution_count": 22,
   "metadata": {},
   "outputs": [
    {
     "name": "stdout",
     "output_type": "stream",
     "text": [
      "0 1\n",
      "1 1\n",
      "1 2\n",
      "2 3\n",
      "0 1\n",
      "1 1\n",
      "1 2\n",
      "2 3\n",
      "3 5\n",
      "5 8\n",
      "8 13\n",
      "13 21\n",
      "21 34\n",
      "34 55\n",
      "55 89\n",
      "89 144\n",
      "144 233\n",
      "233 377\n",
      "377 610\n",
      "610 987\n",
      "987 1597\n",
      "1597 2584\n",
      "2584 4181\n",
      "0 1\n",
      "1 1\n",
      "1 2\n",
      "2 3\n",
      "3 5\n",
      "5 8\n",
      "8 13\n",
      "13 21\n",
      "21 34\n",
      "34 55\n",
      "55 89\n",
      "89 144\n",
      "144 233\n",
      "233 377\n",
      "377 610\n",
      "610 987\n",
      "987 1597\n",
      "1597 2584\n",
      "2584 4181\n",
      "4181 6765\n",
      "6765 10946\n",
      "10946 17711\n",
      "17711 28657\n",
      "28657 46368\n",
      "46368 75025\n",
      "75025 121393\n",
      "121393 196418\n",
      "196418 317811\n",
      "317811 514229\n",
      "514229 832040\n",
      "832040 1346269\n",
      "1346269 2178309\n",
      "2178309 3524578\n",
      "3524578 5702887\n",
      "5702887 9227465\n",
      "9227465 14930352\n",
      "14930352 24157817\n",
      "24157817 39088169\n",
      "39088169 63245986\n",
      "63245986 102334155\n",
      "102334155 165580141\n",
      "165580141 267914296\n",
      "267914296 433494437\n",
      "433494437 701408733\n",
      "701408733 1134903170\n",
      "1134903170 1836311903\n",
      "1836311903 2971215073\n",
      "2971215073 4807526976\n",
      "4807526976 7778742049\n"
     ]
    },
    {
     "data": {
      "text/plain": [
       "True"
      ]
     },
     "execution_count": 22,
     "metadata": {},
     "output_type": "execute_result"
    }
   ],
   "source": [
    "\n",
    "from typing import Dict\n",
    "from functools import lru_cache\n",
    "\n",
    "# Python has a decorator to memoize functions. It is the lru_cache from the functools module.\n",
    "# This decorator will remember the last 128 calls it gets. It is parameterizable.\n",
    "# You can also use a dictionary and do it yourself. But it is not as elegant.\n",
    "# @lru_cache(maxsize=None)\n",
    "# def fibonacci(n) -> int:\n",
    "#   if n < 2:\n",
    "#     return n\n",
    "#   return fibonacci(n - 1) + fibonacci(n - 2)\n",
    "\n",
    "# memo: Dict[int, int] = {0: 0, 1: 1}\n",
    "# def fibonacci(n) -> int:\n",
    "#   if n not in memo:\n",
    "#     memo[n] = fibonacci(n - 1) + fibonacci(n - 2)\n",
    "#   return memo[n]\n",
    "\n",
    "# Using a generator\n",
    "# def fibonacci():\n",
    "#   a, b = 0, 1\n",
    "#   while True:\n",
    "#     yield a\n",
    "#     a, b = b, a + b\n",
    "\n",
    "# Using an iterative approach\n",
    "def fibonacci(n):\n",
    "  if n == 0: return 0\n",
    "  last = 0\n",
    "  next = 1\n",
    "  for _ in range(1, n):\n",
    "    print(last, next)\n",
    "    last, next = next, last + next\n",
    "  return next\n",
    "\n",
    "test = {\n",
    "  'input': {\n",
    "    'n': 5\n",
    "  },\n",
    "  'output': 8\n",
    "}\n",
    "test2 = {\n",
    "  'input': {\n",
    "    'n': 20\n",
    "  },\n",
    "  'output': 6765\n",
    "}\n",
    "test3 = {\n",
    "  'input': {\n",
    "    'n': 50\n",
    "  },\n",
    "  'output': 12586269025\n",
    "}\n",
    "\n",
    "fibonacci(**test['input']) == test['output']\n",
    "fibonacci(**test2['input']) == test2['output']\n",
    "fibonacci(**test3['input']) == test3['output']"
   ]
  }
 ],
 "metadata": {
  "kernelspec": {
   "display_name": "Python 3.10.2 64-bit",
   "language": "python",
   "name": "python3"
  },
  "language_info": {
   "codemirror_mode": {
    "name": "ipython",
    "version": 3
   },
   "file_extension": ".py",
   "mimetype": "text/x-python",
   "name": "python",
   "nbconvert_exporter": "python",
   "pygments_lexer": "ipython3",
   "version": "3.10.2"
  },
  "orig_nbformat": 4,
  "vscode": {
   "interpreter": {
    "hash": "aee8b7b246df8f9039afb4144a1f6fd8d2ca17a180786b69acc140d282b71a49"
   }
  }
 },
 "nbformat": 4,
 "nbformat_minor": 2
}
