{
 "cells": [
  {
   "cell_type": "code",
   "execution_count": 1,
   "metadata": {},
   "outputs": [
    {
     "name": "stdout",
     "output_type": "stream",
     "text": [
      "Name: Amanda, grade: 3.5\n",
      "Name: Chime, grade: 4.5\n",
      "Name: Chimamanda, grade: 3.45\n",
      "Name: Daborah, grade: 2.95\n"
     ]
    }
   ],
   "source": [
    "# Using the zip function to create something like a merger of multiple sequences\n",
    "\"\"\"Using zip function\"\"\"\n",
    "names = ['Amanda', 'Chime', 'Chimamanda', 'Daborah']\n",
    "grades = [3.5, 4.5, 3.45, 2.95]\n",
    "\n",
    "for name, grade in zip(names, grades):\n",
    "  print(f'Name: {name}, grade: {grade}')\n",
    "# Output\n",
    "# Name: Amanda, grade: 3.5\n",
    "# Name: Chime, grade: 4.5\n",
    "# Name: Chimamanda, grade: 3.45\n",
    "# Name: Daborah, grade: 2.9"
   ]
  },
  {
   "cell_type": "code",
   "execution_count": 2,
   "metadata": {},
   "outputs": [
    {
     "name": "stdout",
     "output_type": "stream",
     "text": [
      "Index: 0, Value: yellow\n",
      "Index: 1, Value: green\n",
      "Index: 2, Value: black\n"
     ]
    }
   ],
   "source": [
    "\"\"\"Using enumerate function\"\"\"\n",
    "for index, value in enumerate(('yellow', 'green', 'black')):\n",
    "  print(f'Index: {index}, Value: {value}')"
   ]
  },
  {
   "cell_type": "code",
   "execution_count": 4,
   "metadata": {},
   "outputs": [
    {
     "data": {
      "text/plain": [
       "'apples'"
      ]
     },
     "execution_count": 4,
     "metadata": {},
     "output_type": "execute_result"
    }
   ],
   "source": [
    "# Using the min function with a second parameter\n",
    "foods = ['Cookies', 'pizza', 'Grapes', 'apples', 'steak', 'Bacon']\n",
    "min(foods) # 'Bacon\n",
    "\n",
    "min(foods, key=lambda s: s.lower()) # 'apples'"
   ]
  },
  {
   "cell_type": "code",
   "execution_count": 5,
   "metadata": {},
   "outputs": [
    {
     "data": {
      "text/plain": [
       "[11, 22, 33]"
      ]
     },
     "execution_count": 5,
     "metadata": {},
     "output_type": "execute_result"
    }
   ],
   "source": [
    "\"\"\"Using list comprehension\"\"\"\n",
    "[a + b for a, b in zip([10, 20, 30], [1, 2, 3])]"
   ]
  },
  {
   "cell_type": "code",
   "execution_count": 9,
   "metadata": {},
   "outputs": [
    {
     "name": "stdout",
     "output_type": "stream",
     "text": [
      "77 68 86 73 \n",
      "96 87 89 81 \n",
      "70 90 86 81 \n",
      "a[0][0]=77 a[0][1]=68 a[0][2]=86 a[0][3]=73 \n",
      "a[1][0]=96 a[1][1]=87 a[1][2]=89 a[1][3]=81 \n",
      "a[2][0]=70 a[2][1]=90 a[2][2]=86 a[2][3]=81 \n"
     ]
    }
   ],
   "source": [
    "\"\"\"Using Two-dimensional array\"\"\"\n",
    "a = [[77, 68, 86, 73], [96, 87, 89, 81], [70, 90, 86, 81]]\n",
    "\n",
    "for row in a:\n",
    "  for value in row:\n",
    "    print(value, end=' ')\n",
    "  print();\n",
    "\n",
    "for i, row in enumerate(a):\n",
    "  for j, item in enumerate(row):\n",
    "    print(f'a[{i}][{j}]={item}', end=' ')\n",
    "  print();"
   ]
  },
  {
   "cell_type": "code",
   "execution_count": 14,
   "metadata": {},
   "outputs": [
    {
     "name": "stdout",
     "output_type": "stream",
     "text": [
      "Average of t's items is 10.166666666666666\n",
      "SOLUTION 2: Average of t's items is 10.166666666666666\n",
      "Average of t's row 1 is 6.666666666666667\n",
      "Average of t's row 2 is 13.666666666666666\n"
     ]
    }
   ],
   "source": [
    "t = [[10, 7, 3], [20, 4, 17]]\n",
    "\n",
    "# Calculate the average of t's elements\n",
    "# Solution 1\n",
    "average = 0\n",
    "length_of_items = 0\n",
    "item_count = 0;\n",
    "for row in t:\n",
    "  length_of_items += len(row)\n",
    "  for item in row:\n",
    "    item_count += item\n",
    "\n",
    "average = item_count / length_of_items\n",
    "print(f\"Average of t's items is {average}\")\n",
    "\n",
    "# Solution 2\n",
    "rows = []\n",
    "for row in t:\n",
    "  rows += row\n",
    "\n",
    "average = sum(rows) / len(rows)\n",
    "print(f\"SOLUTION 2: Average of t's items is {average}\")\n",
    "\n",
    "# Calculate the average of each row\n",
    "for i, row in enumerate(t):\n",
    "  average = sum(row) / len(row)\n",
    "  print(f\"Average of t's row {i+1} is {average}\")\n",
    "\n"
   ]
  },
  {
   "cell_type": "code",
   "execution_count": 14,
   "metadata": {},
   "outputs": [
    {
     "name": "stdout",
     "output_type": "stream",
     "text": [
      "Length of country_codes is 4\n",
      "country_codes is not empty\n",
      "Finland's code is: fi\n",
      "Nigeria's code is: ng\n",
      "South Africa's code is: za\n",
      "Nepal's code is: np\n",
      "Countries_view before adding a key-value: dict_keys(['Finland', 'Nigeria', 'South Africa', 'Nepal'])\n",
      "Finland, Nigeria, South Africa, Nepal, Countries_view after adding a key-value: dict_keys(['Finland', 'Nigeria', 'South Africa', 'Nepal', 'United Kingdom'])\n"
     ]
    }
   ],
   "source": [
    "# Dictionary\n",
    "country_codes = {\n",
    "  'Finland': 'fi',\n",
    "  'Nigeria': 'ng',\n",
    "  'South Africa': 'za',\n",
    "  'Nepal': 'np'\n",
    "}\n",
    "\n",
    "print(f'Length of country_codes is {len(country_codes)}')\n",
    "\n",
    "if country_codes:\n",
    "  print('country_codes is not empty')\n",
    "else:\n",
    "  print('country_codes is empty')\n",
    "\n",
    "# Iterating through a dictionary\n",
    "country_codes.items() # Result: [('Finland', 'fi'), ('Nigeria', 'ng'), ('South Africa', 'za'), ('Nepal', 'np')]\n",
    "\n",
    "for name, i_code in country_codes.items():\n",
    "  print(f\"{name}'s code is: {i_code}\")\n",
    "\n",
    "country_codes.get('Finland') # If key doesn't exist, it will return None\n",
    "country_codes.get('finland', 'finland is not found') # You can also pass a second parameter to the get function\n",
    "\n",
    "'Finland' in country_codes # Will return True\n",
    "\n",
    "'finland' not in country_codes # will return True\n",
    "\n",
    "country_codes.keys() # 'Finland', 'Nigeria', 'South Africa', 'Nepal'\n",
    "country_codes.values() # 'fi', 'ng', 'za', 'np'\n",
    "\n",
    "# What the keys(), items(), and values() functions return is what is called a dictionary view of the dictionary\n",
    "# Example\n",
    "countries_view = country_codes.keys() # 'Finland', 'Nigeria', 'South Africa', 'Nepal'\n",
    "print(f'Countries_view before adding a key-value: {countries_view}')\n",
    "for key in countries_view:\n",
    "  print(key, end=', ') # Finland, Nigeria, South Africa, Nepal,\n",
    "\n",
    "country_codes['United Kingdom'] = 'uk'\n",
    "# 'United kingdom shows int eh countries_view list because it is a view of the dictionary\n",
    "# i.e it doesn't maintain a copy of the data\n",
    "print(f'Countries_view after adding a key-value: {countries_view}')\n",
    "\n",
    "\n",
    "# You can also use the update method to add and update a dictionary\n",
    "country_codes.update({'United States': 'us'})\n",
    "# or\n",
    "country_codes.update(Australia='ar')\n",
    "# update\n",
    "country_codes.update(Australia='au')\n",
    "\n",
    "\n"
   ]
  },
  {
   "cell_type": "code",
   "execution_count": 15,
   "metadata": {},
   "outputs": [
    {
     "name": "stdout",
     "output_type": "stream",
     "text": [
      "Average for Susan is 92.33\n",
      "Average for Eduardo is 85.67\n",
      "Average for Azizi is 87.67\n",
      "Average for Pantipa is 93.33\n",
      "Class' average is: 89.75\n"
     ]
    }
   ],
   "source": [
    "\"\"\"Using a dictionary to represent an instructor's grade book.\"\"\"\n",
    "grade_book = {\n",
    "  'Susan': [92, 85, 100],\n",
    "  'Eduardo': [83, 95, 79],\n",
    "  'Azizi': [91, 89, 83],\n",
    "  'Pantipa': [97, 91, 92]\n",
    "}\n",
    "\n",
    "all_grades_total = 0\n",
    "all_grades_count = 0\n",
    "\n",
    "for name, grades in grade_book.items():\n",
    "  total = sum(grades)\n",
    "  print(f'Average for {name} is {total/len(grades):.2f}')\n",
    "  all_grades_total += total\n",
    "  all_grades_count += len(grades)\n",
    "\n",
    "print(f\"Class' average is: {all_grades_total/all_grades_count:.2f}\")"
   ]
  },
  {
   "cell_type": "code",
   "execution_count": 23,
   "metadata": {},
   "outputs": [
    {
     "name": "stdout",
     "output_type": "stream",
     "text": [
      "WORD        COUNT\n",
      "This        1\n",
      "a           1\n",
      "different   1\n",
      "is          2\n",
      "more        1\n",
      "sample      2\n",
      "several     1\n",
      "some        1\n",
      "text        2\n",
      "this        1\n",
      "with        2\n",
      "words       2\n",
      "\n",
      "Number of unique words: 12\n"
     ]
    }
   ],
   "source": [
    "\"\"\"Tokenizing a string and counting unique words.\"\"\"\n",
    "# You can either do this:\n",
    "# text = ('this is a sample text with several words' 'This is more sample text with some different words')\n",
    "# or this:\n",
    "text = (\"\"\"this is a sample text with several words\n",
    "This is more sample text with some different words\"\"\")\n",
    "\n",
    "word_counts = {}\n",
    "# Count occurrences of each unique word\n",
    "for word in text.split():\n",
    "  if word in word_counts:\n",
    "    word_counts[word] += 1\n",
    "  else:\n",
    "    word_counts[word] = 1\n",
    "\n",
    "print(f'{\"WORD\":<12}COUNT')\n",
    "# sorted(word_counts.items) will sort the keys in the tuple\n",
    "# since the keys must be unique\n",
    "for word, count in sorted(word_counts.items()):\n",
    "  print(f'{word:<12}{count}')\n",
    "\n",
    "print(f'\\nNumber of unique words: {len(word_counts)}')\n"
   ]
  },
  {
   "cell_type": "code",
   "execution_count": 24,
   "metadata": {},
   "outputs": [
    {
     "name": "stdout",
     "output_type": "stream",
     "text": [
      "counter dictionary = Counter({'is': 2, 'sample': 2, 'text': 2, 'with': 2, 'words': 2, 'this': 1, 'a': 1, 'several': 1, 'This': 1, 'more': 1, 'some': 1, 'different': 1})\n",
      "This        1\n",
      "a           1\n",
      "different   1\n",
      "is          2\n",
      "more        1\n",
      "sample      2\n",
      "several     1\n",
      "some        1\n",
      "text        2\n",
      "this        1\n",
      "with        2\n",
      "words       2\n",
      "\n",
      "Number of unique words: 12\n"
     ]
    }
   ],
   "source": [
    "\"\"\"Tokenizing a string and counting unique words using a builtin library.\"\"\"\n",
    "from collections import Counter\n",
    "# You can either do this:\n",
    "# text = ('this is a sample text with several words' 'This is more sample text with some different words')\n",
    "# or this:\n",
    "text = (\"\"\"this is a sample text with several words\n",
    "This is more sample text with some different words\"\"\")\n",
    "\n",
    "counter = Counter(text.split())\n",
    "# {'is': 2, 'sample': 2, 'text': 2, 'with': 2, 'words': 2, 'this': 1, 'a': 1, 'several': 1, 'This': 1, 'more': 1, 'some': 1, 'different': 1}\n",
    "print(f'counter dictionary = {counter}')\n",
    "\n",
    "for word, count in sorted(counter.items()):\n",
    "  print(f'{word:<12}{count}')\n",
    "\n",
    "print(f'\\nNumber of unique words: {len(counter)}')"
   ]
  },
  {
   "cell_type": "code",
   "execution_count": 32,
   "metadata": {},
   "outputs": [
    {
     "name": "stdout",
     "output_type": "stream",
     "text": [
      "Random Number  Count\n",
      "1              9929\n",
      "2              10082\n",
      "3              10046\n",
      "4              10102\n",
      "5              9841\n",
      "\n",
      "Total number of unique random numbers: 5\n"
     ]
    }
   ],
   "source": [
    "\"\"\"Using a list comprehension to create a list of 50 random integers in the range 1-5.\"\"\"\n",
    "\"\"\"Summarize them with the builtin Counter class. Display the results in two-column format\"\"\"\n",
    "\n",
    "from collections import Counter\n",
    "import random\n",
    "\n",
    "random_integers = [random.randrange(1, 6) for _ in range(50000)]\n",
    "\n",
    "counter = Counter(random_integers)\n",
    "\n",
    "print(f'{\"Random Number\":<15}Count')\n",
    "for num, count in sorted(counter.items()):\n",
    "  print(f'{num:<15}{count}')\n",
    "\n",
    "print(f'\\nTotal number of unique random numbers: {len(counter)}')"
   ]
  },
  {
   "cell_type": "code",
   "execution_count": 40,
   "metadata": {},
   "outputs": [
    {
     "name": "stdout",
     "output_type": "stream",
     "text": [
      "{1: 'January', 2: 'February', 3: 'March'}\n",
      "Students and their average grades: {'Sue': 93.0, 'Bob': 90.0}\n",
      "{1: 1, 2: 8, 3: 27, 4: 64, 5: 125}\n"
     ]
    }
   ],
   "source": [
    "\"\"\"Using dictionary comprehension\"\"\"\n",
    "\n",
    "months = { 'January': 1, 'February': 2, 'March': 3 }\n",
    "\n",
    "months2 = { number:name for name, number in months.items() }\n",
    "print(f'{months2}')\n",
    "\n",
    "\n",
    "grades = { 'Sue': [98, 87, 94], 'Bob': [84, 95, 91] }\n",
    "\n",
    "avg_grades = { name: sum(student_grades)/len(student_grades) for name, student_grades in grades.items() }\n",
    "print(f'Students and their average grades: {avg_grades}')\n",
    "\n",
    "#Use a dictionary comprehension to create a dictionary of numbers 1-5 and their cubes\n",
    "numbers_cubes = {i: i**3 for i in range(1, 6) }\n",
    "print(numbers_cubes)\n"
   ]
  },
  {
   "cell_type": "code",
   "execution_count": 46,
   "metadata": {},
   "outputs": [
    {
     "name": "stdout",
     "output_type": "stream",
     "text": [
      "{'red', 'green', 'orange', 'blue', 'purple'}\n",
      "RED GREEN ORANGE BLUE PURPLE \n",
      "\n",
      "[0, 1, 2, 3, 4, 5, 6, 7, 8, 9, 0, 1, 2, 3, 4]\n",
      "\n",
      "{0, 1, 2, 3, 4, 5, 6, 7, 8, 9}\n",
      "set()\n",
      "\n",
      "a be is not or question that to "
     ]
    }
   ],
   "source": [
    "\"\"\"Using Set\"\"\"\n",
    "\n",
    "colors = { 'blue', 'red', 'orange', 'purple', 'red', 'blue', 'green' }\n",
    "print(colors)\n",
    "\n",
    "len(colors)\n",
    "\n",
    "'black' in colors # False\n",
    "'purple' in colors # True\n",
    "\n",
    "for color in colors:\n",
    "  print(color.upper(), end=' ')\n",
    "\n",
    "print('\\n')\n",
    "numbers = list(range(10)) + list(range(5))\n",
    "\n",
    "print(f'{numbers}\\n')\n",
    "\n",
    "set_numbers = set(numbers)\n",
    "print(set_numbers)\n",
    "\n",
    "# Creating set\n",
    "new_set = set()\n",
    "print(f'{new_set}\\n')\n",
    "\n",
    "text = 'to be or not to be that is a question'\n",
    "\n",
    "unique_words = set(text.split())\n",
    "\n",
    "for word in sorted(unique_words):\n",
    "  print(word, end=' ')\n",
    "\n",
    "\n",
    "# comparing set\n",
    "{1, 3, 5} == {3, 5, 1} # True\n",
    "{1, 3, 5} != {3, 5, 1} # False\n",
    "\n",
    "# Subset\n",
    "{1, 3, 5} < {3, 5, 1} # False\n",
    "{1, 3, 5} < {7, 3, 5, 1} # True\n",
    "# Improper subset\n",
    "{1, 3, 5} <= {3, 5, 1} # True\n",
    "{3, 5} <= {3, 5, 1} # True\n",
    "# using method\n",
    "{1, 3, 5}.issubset({3, 5, 1}) # True\n",
    "\n",
    "# Improper Super set\n",
    "{1, 3, 5} > {3, 5, 1} # False\n",
    "{1, 3, 5, 7} > {3, 5, 1} # True\n",
    "{1, 3, 5, 7}.issuperset({3, 5, 1}) # True\n",
    "# This will turn every character in to a set\n",
    "set('abc def ghi jkl mno') # {' ', 'a', 'b', 'c', 'd', 'e', 'f', 'g', 'h', 'i', 'j', 'k', 'l', 'm', 'n','o' }\n",
    "set('hi mom') # {' ', 'h', 'i', 'm', 'o'}\n",
    "set('abc def ghi jkl mno').issuperset('hi mom') # True\n",
    "\n",
    "\"\"\"Set Operation\"\"\"\n",
    "# Union\n",
    "{ 1, 3, 5} | { 2, 3, 4 } # {1, 2, 3, 4, 5}\n",
    "{ 1, 3, 5}.union([20, 20, 3, 40, 40]) # {1, 3, 5, 20, 40}\n",
    "\n",
    "# Intersect\n",
    "{ 1, 3, 5} & { 2, 3, 4 } # {3}\n",
    "{ 1, 3, 5}.intersection([20, 20, 3, 40, 40]) # {3}\n",
    "\n",
    "# difference\n",
    "# In left but not in right\n",
    "{ 1, 3, 5} - { 2, 3, 4 } # {1, 5}\n",
    "{ 1, 3, 5, 7}.difference([2, 3, 2, 3, 4, 4]) # {1, 5, 7}\n",
    "\n",
    "# Symmetric difference\n",
    "# Elements in the left that are not in the right and elements in the right that are not in the left\n",
    "{ 1, 3, 5} ^ { 2, 3, 4 } # {1, 2, 4, 5}\n",
    "{ 1, 3, 5, 7}.symmetric_difference([2, 3, 2, 3, 4, 4]) # {1, 2, 4, 5, 7}\n",
    "\n",
    "# is Disjoint\n",
    "# They're disjoint if they have no element in common\n",
    "{ 1, 3, 5}.isdisjoint({ 2, 4, 6 }) # True\n",
    "{ 1, 3, 5}.isdisjoint({ 4, 6, 1 }) # False\n",
    "\n",
    "\n",
    "\"\"\"Mutable Set Operators\"\"\"\n",
    "# These are operators and methods you can use on a variable that refers to a set object to modify the set that the variable refers to\n",
    "numbers = { 1, 3, 5 }\n",
    "numbers |= { 2, 3, 4 } # { 1, 2, 3, 4, 5 }\n",
    "numbers.update(range(10)) # { 0, 1, 2, 3, 4, 5, 6, 7, 8, 9 }\n",
    "\n",
    "#Adding to a set\n",
    "numbers.add(17) # { 0, 1, 2, 3, 4, 5, 6, 7, 8, 9, 17 }\n",
    "# Removing from a set\n",
    "numbers.remove(3) # { 0, 1, 2, 4, 5, 6, 7, 8, 9, 17 }\n",
    "numbers.discard(3) # { 0, 1, 2, 4, 5, 6, 7, 8, 9, 17 } This will not throw and error\n",
    "numbers.pop() # this will remove 0\n",
    "numbers.clear() # will clear the set\n",
    "\n",
    "\"\"\"Set comprehension\"\"\"\n",
    "numbers = [1, 2, 2, 3, 4, 5, 6, 6, 7, 8, 9, 10, 10]\n",
    "evens = {item for item in numbers if item % 2 == 0 } # {2, 4, 6, 8, 10}\n",
    "\n",
    "\n"
   ]
  }
 ],
 "metadata": {
  "interpreter": {
   "hash": "cd78fef2128015050713e82ca51c6520b11aee7c9ee8df750520bbbc7384cbaa"
  },
  "kernelspec": {
   "display_name": "Python 3.9.7 ('base')",
   "language": "python",
   "name": "python3"
  },
  "language_info": {
   "codemirror_mode": {
    "name": "ipython",
    "version": 3
   },
   "file_extension": ".py",
   "mimetype": "text/x-python",
   "name": "python",
   "nbconvert_exporter": "python",
   "pygments_lexer": "ipython3",
   "version": "3.9.7"
  },
  "orig_nbformat": 4
 },
 "nbformat": 4,
 "nbformat_minor": 2
}
