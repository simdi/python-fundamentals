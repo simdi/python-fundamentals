{
 "cells": [
  {
   "cell_type": "code",
   "execution_count": 1,
   "metadata": {},
   "outputs": [
    {
     "name": "stdout",
     "output_type": "stream",
     "text": [
      "Name: Amanda, grade: 3.5\n",
      "Name: Chime, grade: 4.5\n",
      "Name: Chimamanda, grade: 3.45\n",
      "Name: Daborah, grade: 2.95\n"
     ]
    }
   ],
   "source": [
    "# Using the zip function to create something like a merger of multiple sequences\n",
    "\"\"\"Using zip function\"\"\"\n",
    "names = ['Amanda', 'Chime', 'Chimamanda', 'Daborah']\n",
    "grades = [3.5, 4.5, 3.45, 2.95]\n",
    "\n",
    "for name, grade in zip(names, grades):\n",
    "  print(f'Name: {name}, grade: {grade}')\n",
    "# Output\n",
    "# Name: Amanda, grade: 3.5\n",
    "# Name: Chime, grade: 4.5\n",
    "# Name: Chimamanda, grade: 3.45\n",
    "# Name: Daborah, grade: 2.9"
   ]
  },
  {
   "cell_type": "code",
   "execution_count": 2,
   "metadata": {},
   "outputs": [
    {
     "name": "stdout",
     "output_type": "stream",
     "text": [
      "Index: 0, Value: yellow\n",
      "Index: 1, Value: green\n",
      "Index: 2, Value: black\n"
     ]
    }
   ],
   "source": [
    "\"\"\"Using enumerate function\"\"\"\n",
    "for index, value in enumerate(('yellow', 'green', 'black')):\n",
    "  print(f'Index: {index}, Value: {value}')"
   ]
  },
  {
   "cell_type": "code",
   "execution_count": 4,
   "metadata": {},
   "outputs": [
    {
     "data": {
      "text/plain": [
       "'apples'"
      ]
     },
     "execution_count": 4,
     "metadata": {},
     "output_type": "execute_result"
    }
   ],
   "source": [
    "# Using the min function with a second parameter\n",
    "foods = ['Cookies', 'pizza', 'Grapes', 'apples', 'steak', 'Bacon']\n",
    "min(foods) # 'Bacon\n",
    "\n",
    "min(foods, key=lambda s: s.lower()) # 'apples'"
   ]
  },
  {
   "cell_type": "code",
   "execution_count": 5,
   "metadata": {},
   "outputs": [
    {
     "data": {
      "text/plain": [
       "[11, 22, 33]"
      ]
     },
     "execution_count": 5,
     "metadata": {},
     "output_type": "execute_result"
    }
   ],
   "source": [
    "\"\"\"Using list comprehension\"\"\"\n",
    "[a + b for a, b in zip([10, 20, 30], [1, 2, 3])]"
   ]
  }
 ],
 "metadata": {
  "interpreter": {
   "hash": "cd78fef2128015050713e82ca51c6520b11aee7c9ee8df750520bbbc7384cbaa"
  },
  "kernelspec": {
   "display_name": "Python 3.9.7 ('base')",
   "language": "python",
   "name": "python3"
  },
  "language_info": {
   "codemirror_mode": {
    "name": "ipython",
    "version": 3
   },
   "file_extension": ".py",
   "mimetype": "text/x-python",
   "name": "python",
   "nbconvert_exporter": "python",
   "pygments_lexer": "ipython3",
   "version": "3.9.7"
  },
  "orig_nbformat": 4
 },
 "nbformat": 4,
 "nbformat_minor": 2
}
