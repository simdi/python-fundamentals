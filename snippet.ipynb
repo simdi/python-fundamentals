{
 "cells": [
  {
   "cell_type": "code",
   "execution_count": 1,
   "metadata": {},
   "outputs": [
    {
     "name": "stdout",
     "output_type": "stream",
     "text": [
      "Name: Amanda, grade: 3.5\n",
      "Name: Chime, grade: 4.5\n",
      "Name: Chimamanda, grade: 3.45\n",
      "Name: Daborah, grade: 2.95\n"
     ]
    }
   ],
   "source": [
    "# Using the zip function to create something like a merger of multiple sequences\n",
    "\"\"\"Using zip function\"\"\"\n",
    "names = ['Amanda', 'Chime', 'Chimamanda', 'Daborah']\n",
    "grades = [3.5, 4.5, 3.45, 2.95]\n",
    "\n",
    "for name, grade in zip(names, grades):\n",
    "  print(f'Name: {name}, grade: {grade}')\n",
    "# Output\n",
    "# Name: Amanda, grade: 3.5\n",
    "# Name: Chime, grade: 4.5\n",
    "# Name: Chimamanda, grade: 3.45\n",
    "# Name: Daborah, grade: 2.9"
   ]
  },
  {
   "cell_type": "code",
   "execution_count": 2,
   "metadata": {},
   "outputs": [
    {
     "name": "stdout",
     "output_type": "stream",
     "text": [
      "Index: 0, Value: yellow\n",
      "Index: 1, Value: green\n",
      "Index: 2, Value: black\n"
     ]
    }
   ],
   "source": [
    "\"\"\"Using enumerate function\"\"\"\n",
    "for index, value in enumerate(('yellow', 'green', 'black')):\n",
    "  print(f'Index: {index}, Value: {value}')"
   ]
  },
  {
   "cell_type": "code",
   "execution_count": 4,
   "metadata": {},
   "outputs": [
    {
     "data": {
      "text/plain": [
       "'apples'"
      ]
     },
     "execution_count": 4,
     "metadata": {},
     "output_type": "execute_result"
    }
   ],
   "source": [
    "# Using the min function with a second parameter\n",
    "foods = ['Cookies', 'pizza', 'Grapes', 'apples', 'steak', 'Bacon']\n",
    "min(foods) # 'Bacon\n",
    "\n",
    "min(foods, key=lambda s: s.lower()) # 'apples'"
   ]
  },
  {
   "cell_type": "code",
   "execution_count": 5,
   "metadata": {},
   "outputs": [
    {
     "data": {
      "text/plain": [
       "[11, 22, 33]"
      ]
     },
     "execution_count": 5,
     "metadata": {},
     "output_type": "execute_result"
    }
   ],
   "source": [
    "\"\"\"Using list comprehension\"\"\"\n",
    "[a + b for a, b in zip([10, 20, 30], [1, 2, 3])]"
   ]
  },
  {
   "cell_type": "code",
   "execution_count": 9,
   "metadata": {},
   "outputs": [
    {
     "name": "stdout",
     "output_type": "stream",
     "text": [
      "77 68 86 73 \n",
      "96 87 89 81 \n",
      "70 90 86 81 \n",
      "a[0][0]=77 a[0][1]=68 a[0][2]=86 a[0][3]=73 \n",
      "a[1][0]=96 a[1][1]=87 a[1][2]=89 a[1][3]=81 \n",
      "a[2][0]=70 a[2][1]=90 a[2][2]=86 a[2][3]=81 \n"
     ]
    }
   ],
   "source": [
    "\"\"\"Using Two-dimensional array\"\"\"\n",
    "a = [[77, 68, 86, 73], [96, 87, 89, 81], [70, 90, 86, 81]]\n",
    "\n",
    "for row in a:\n",
    "  for value in row:\n",
    "    print(value, end=' ')\n",
    "  print();\n",
    "\n",
    "for i, row in enumerate(a):\n",
    "  for j, item in enumerate(row):\n",
    "    print(f'a[{i}][{j}]={item}', end=' ')\n",
    "  print();"
   ]
  },
  {
   "cell_type": "code",
   "execution_count": 14,
   "metadata": {},
   "outputs": [
    {
     "name": "stdout",
     "output_type": "stream",
     "text": [
      "Average of t's items is 10.166666666666666\n",
      "SOLUTION 2: Average of t's items is 10.166666666666666\n",
      "Average of t's row 1 is 6.666666666666667\n",
      "Average of t's row 2 is 13.666666666666666\n"
     ]
    }
   ],
   "source": [
    "t = [[10, 7, 3], [20, 4, 17]]\n",
    "\n",
    "# Calculate the average of t's elements\n",
    "# Solution 1\n",
    "average = 0\n",
    "length_of_items = 0\n",
    "item_count = 0;\n",
    "for row in t:\n",
    "  length_of_items += len(row)\n",
    "  for item in row:\n",
    "    item_count += item\n",
    "\n",
    "average = item_count / length_of_items\n",
    "print(f\"Average of t's items is {average}\")\n",
    "\n",
    "# Solution 2\n",
    "rows = []\n",
    "for row in t:\n",
    "  rows += row\n",
    "\n",
    "average = sum(rows) / len(rows)\n",
    "print(f\"SOLUTION 2: Average of t's items is {average}\")\n",
    "\n",
    "# Calculate the average of each row\n",
    "for i, row in enumerate(t):\n",
    "  average = sum(row) / len(row)\n",
    "  print(f\"Average of t's row {i+1} is {average}\")\n",
    "\n"
   ]
  }
 ],
 "metadata": {
  "interpreter": {
   "hash": "cd78fef2128015050713e82ca51c6520b11aee7c9ee8df750520bbbc7384cbaa"
  },
  "kernelspec": {
   "display_name": "Python 3.9.7 ('base')",
   "language": "python",
   "name": "python3"
  },
  "language_info": {
   "codemirror_mode": {
    "name": "ipython",
    "version": 3
   },
   "file_extension": ".py",
   "mimetype": "text/x-python",
   "name": "python",
   "nbconvert_exporter": "python",
   "pygments_lexer": "ipython3",
   "version": "3.9.7"
  },
  "orig_nbformat": 4
 },
 "nbformat": 4,
 "nbformat_minor": 2
}
