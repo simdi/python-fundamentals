{
 "cells": [
  {
   "cell_type": "code",
   "execution_count": null,
   "metadata": {},
   "outputs": [],
   "source": [
    "# Text-File Processing--Writing to a Text File: Introducing the with Statement\n",
    "\n",
    "# Writing to a file\n",
    "# with open('accounts.txt', mode='w') as accounts:\n",
    "#   accounts.write('100 Jones 24.98\\n')\n",
    "#   accounts.write('200 Doe 345.67\\n')\n",
    "#   accounts.write('300 White 0.00\\n')\n",
    "#   accounts.write('400 Stone -42.16\\n')\n",
    "#   accounts.write('500 Rich 224.62\\n')\n",
    "\n",
    "# Using shell command to view the file\n",
    "# !cat accounts.txt\n",
    "# 100 Jones 24.98\n",
    "# 200 Doe 345.67\n",
    "# 300 White 0.00\n",
    "# 400 Stone -42.16\n",
    "# 500 Rich 224.62\n",
    "\n",
    "# Reading from a file\n",
    "with open('accounts.txt', mode='r') as accounts:\n",
    "  print(f'{\"Account\":<10}{\"Name\":<10}{\"Balance\":>10}')\n",
    "  for record in accounts:\n",
    "    account, name, balance = record.split()\n",
    "    print(f'{account:<10}{name:<10}{balance:>10}')\n",
    "# Account   Name         Balance\n",
    "# 100       Jones          24.98\n",
    "# 200       Doe           345.67\n",
    "# 300       White           0.00\n",
    "# 400       Stone         -42.16\n",
    "# 500       Rich          224.62\n",
    "\n",
    "# Updating a text file\n",
    "# accounts = open('accounts.txt', mode='r')\n",
    "# temp_file = open('temp_file.txt', mode='w')\n",
    "\n",
    "# with accounts, temp_file:\n",
    "#   for record in accounts:\n",
    "#     account, name, balance = record.split()\n",
    "#     if account == '300':\n",
    "#       temp_file.write(f'{account} Williams {float(balance) + 100}\\n')\n",
    "#     else:\n",
    "#       temp_file.write(record)\n",
    "\n",
    "\n",
    "# import os\n",
    "# os.remove('accounts.txt')\n",
    "# os.rename('temp_file.txt', 'accounts.txt')\n",
    "\n",
    "\n",
    "# Serializing with JSON--Serializing an Object to JSON\n",
    "import json\n",
    "\n",
    "# accounts_dict = {\n",
    "#   'accounts': [\n",
    "#     {'account': 100, 'name': 'Jones', 'balance': 24.98},\n",
    "#     {'account': 200, 'name': 'Doe', 'balance': 345.67},\n",
    "#     {'account': 300, 'name': 'White', 'balance': 0.00},\n",
    "#     {'account': 400, 'name': 'Stone', 'balance': -42.16},\n",
    "#     {'account': 500, 'name': 'Rich', 'balance': 224.62}\n",
    "#   ]\n",
    "# }\n",
    "\n",
    "# with open('accounts.json', mode='w') as accounts:\n",
    "#   json.dump(accounts_dict, accounts)\n",
    "\n",
    "# !cat accounts.json\n",
    "# {\"accounts\": [{\"account\": 100, \"name\": \"Jones\", \"balance\": 24.98}, {\"account\": 200, \"name\": \"Doe\", \"balance\": 345.67}, {\"account\": 300, \"name\": \"White\", \"balance\": 0.0}, {\"account\": 400, \"name\": \"Stone\", \"balance\": -42.16}, {\"account\": 500, \"name\": \"Rich\", \"balance\": 224.62}]}\n",
    "\n",
    "# Deserializing with JSON--Deserializing JSON to an Object\n",
    "# with open('accounts.json', mode='r') as accounts:\n",
    "#   accounts_dict = json.load(accounts)\n",
    "\n",
    "# for account in accounts_dict['accounts']:\n",
    "#   print(f\"{account['account']:<10}{account['name']:<10}{account['balance']:>10}\")\n",
    "\n",
    "# Account   Name         Balance\n",
    "# 100       Jones          24.98\n",
    "# 200       Doe           345.67\n",
    "# 300       White           0.00\n",
    "# 400       Stone         -42.16\n",
    "# 500       Rich          224.62\n",
    "\n",
    "# Serializing with JSON--Displaying JSON in a Pretty Format\n",
    "with open('accounts.json', mode='r') as accounts:\n",
    "  accounts_dict = json.load(accounts)\n",
    "\n",
    "print(json.dumps(accounts_dict, indent=4))\n",
    "# {\n",
    "#     \"accounts\": [\n",
    "#         {\n",
    "#             \"account\": 100,\n",
    "#             \"name\": \"Jones\",\n",
    "#             \"balance\": 24.98\n",
    "#         },\n",
    "#         ...\n",
    "#         {\n",
    "#             \"account\": 400,\n",
    "#             \"balance\": 224.62\n",
    "#         }\n",
    "#     ]\n",
    "# }\n",
    "\n",
    "# File Open Modes--Reading and Writing Binary Files\n",
    "# with open('binary', mode='wb') as bin_file:\n",
    "#   for i in range(17):\n",
    "#     bin_file.write(bytes([i]))\n",
    "\n",
    "# with open('binary', mode='rb') as bin_file:\n",
    "#   for b in bin_file:\n",
    "#     print(b)\n",
    "\n",
    "\n"
   ]
  },
  {
   "cell_type": "markdown",
   "metadata": {},
   "source": [
    "Handling Exceptions"
   ]
  },
  {
   "cell_type": "code",
   "execution_count": 20,
   "metadata": {},
   "outputs": [
    {
     "name": "stdout",
     "output_type": "stream",
     "text": [
      "Numerator and denominator must be valid numbers!\n",
      "Numerator and denominator must be valid numbers!\n",
      "3 / 3 = 1.0\n"
     ]
    }
   ],
   "source": [
    "# Try Statement--Handling Exceptions\n",
    "\n",
    "\"\"\"Simple exception handling example.\"\"\"\n",
    "\n",
    "while True:\n",
    "  try:\n",
    "    number1 = int(input('Enter numerator: '))\n",
    "    number2 = int(input('Enter denominator: '))\n",
    "    result = number1 / number2\n",
    "  except ValueError: # tried to convert non-numeric string to int\n",
    "    print('Numerator and denominator must be valid numbers!')\n",
    "  except ZeroDivisionError: # tried to divide by zero\n",
    "    print('Cannot divide by zero!')\n",
    "  else: # executed if no exceptions were raised\n",
    "    print(f'{number1} / {number2} = {result}')\n",
    "    break # exit loop if successful\n"
   ]
  },
  {
   "cell_type": "markdown",
   "metadata": {},
   "source": [
    "Intro to Data Science: Working with CSV Files--Python Standard Library Module csv"
   ]
  },
  {
   "cell_type": "code",
   "execution_count": 22,
   "metadata": {},
   "outputs": [
    {
     "name": "stdout",
     "output_type": "stream",
     "text": [
      "['100', 'Jones', '24.98']\n",
      "['200', 'Doe', '345.67']\n",
      "['300', 'White', '0.0']\n",
      "['400', 'Stone', '-42.16']\n",
      "['500', 'Rich', '224.62']\n"
     ]
    }
   ],
   "source": [
    "import csv\n",
    "\n",
    "# with open('accounts.csv', mode='w', newline='') as accounts:\n",
    "#   writer = csv.writer(accounts)\n",
    "#   writer.writerow([100, 'Jones', 24.98])\n",
    "#   writer.writerow([200, 'Doe', 345.67])\n",
    "#   writer.writerow([300, 'White', 0.00])\n",
    "#   writer.writerow([400, 'Stone', -42.16])\n",
    "#   writer.writerow([500, 'Rich', 224.62])\n",
    "\n",
    "# !cat accounts.csv\n",
    "\n",
    "# 100,Jones,24.98\n",
    "# 200,Doe,345.67\n",
    "# 300,White,0.0\n",
    "# 400,Stone,-42.16\n",
    "# 500,Rich,224.62\n",
    "\n",
    "with open('accounts.csv', mode='r') as accounts:\n",
    "  reader = csv.reader(accounts)\n",
    "  for record in reader:\n",
    "    print(record)\n",
    "\n",
    "# ['100', 'Jones', '24.98']\n",
    "# ['200', 'Doe', '345.67']\n",
    "# ['300', 'White', '0.0']\n",
    "# ['400', 'Stone', '-42.16']\n",
    "# ['500', 'Rich', '224.62']"
   ]
  },
  {
   "cell_type": "markdown",
   "metadata": {},
   "source": [
    "Intro to Data Science: Working with CSV Files--Reading CSV Files into Pandas DataFrames"
   ]
  },
  {
   "cell_type": "code",
   "execution_count": 2,
   "metadata": {},
   "outputs": [
    {
     "name": "stdout",
     "output_type": "stream",
     "text": [
      "   Account   Name  Balance\n",
      "0      100  Jones    24.98\n",
      "1      200    Doe   345.67\n",
      "2      300  White     0.00\n",
      "3      400  Stone   -42.16\n",
      "4      500   Rich   224.62\n"
     ]
    }
   ],
   "source": [
    "import pandas as pd\n",
    "\n",
    "accounts_df = pd.read_csv('accounts.csv', names=['Account', 'Name', 'Balance'])\n",
    "print(accounts_df)\n",
    "#    Account    Name  Balance\n",
    "# 0      100   Jones    24.98\n",
    "# 1      200     Doe   345.67\n",
    "# 2      300   White     0.00\n",
    "# 3      400   Stone   -42.16\n",
    "# 4      500    Rich   224.62\n",
    "\n",
    "# Assuming you've done all the work to get the data into a DataFrame, you can write it to a CSV file with the to_csv method.\n",
    "accounts_df.to_csv('accounts_pandas.csv', index=False)\n"
   ]
  },
  {
   "cell_type": "markdown",
   "metadata": {},
   "source": [
    "Intro to Data Science: Working with CSV Files--Reading the Titanic Disaster Dataset"
   ]
  },
  {
   "cell_type": "code",
   "execution_count": 14,
   "metadata": {},
   "outputs": [
    {
     "data": {
      "image/png": "[encoded data removed]",
      "text/plain": [
       "<Figure size 432x288 with 1 Axes>"
      ]
     },
     "metadata": {
      "needs_background": "light"
     },
     "output_type": "display_data"
    }
   ],
   "source": [
    "import pandas as pd\n",
    "\n",
    "titanic = pd.read_csv('https://vincentarelbundock.github.io/Rdatasets/csv/carData/TitanicSurvival.csv')\n",
    "\n",
    "pd.set_option('precision', 2)\n",
    "\n",
    "# Change the column names of our DataFrame\n",
    "titanic.columns = ['name', 'survived', 'sex', 'age', 'class']\n",
    "\n",
    "# Descriptive  statistics will be done on the column with numeric data\n",
    "titanic.describe()\n",
    "# \t    age\n",
    "# count\t1046.00\n",
    "# mean\t29.88\n",
    "# std\t14.41\n",
    "# min\t0.17\n",
    "# 25%\t21.00\n",
    "# 50%\t28.00\n",
    "# 75%\t39.00\n",
    "# max\t80.00\n",
    "\n",
    "(titanic.survived == 'yes').describe()\n",
    "# count      1309\n",
    "# unique        2\n",
    "# top       False\n",
    "# freq        809\n",
    "# Name: survived, dtype: object\n",
    "\n",
    "# Display the data in a historgram\n",
    "histogram = titanic.hist()\n"
   ]
  }
 ],
 "metadata": {
  "kernelspec": {
   "display_name": "Python 3.9.7 ('base')",
   "language": "python",
   "name": "python3"
  },
  "language_info": {
   "codemirror_mode": {
    "name": "ipython",
    "version": 3
   },
   "file_extension": ".py",
   "mimetype": "text/x-python",
   "name": "python",
   "nbconvert_exporter": "python",
   "pygments_lexer": "ipython3",
   "version": "3.9.7"
  },
  "orig_nbformat": 4,
  "vscode": {
   "interpreter": {
    "hash": "cd78fef2128015050713e82ca51c6520b11aee7c9ee8df750520bbbc7384cbaa"
   }
  }
 },
 "nbformat": 4,
 "nbformat_minor": 2
}
