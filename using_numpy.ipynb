{
 "cells": [
  {
   "cell_type": "code",
   "execution_count": 5,
   "metadata": {},
   "outputs": [
    {
     "name": "stdout",
     "output_type": "stream",
     "text": [
      "[1.         0.5        0.33333333 0.25       0.2       ]\n",
      "<class 'numpy.ndarray'>\n",
      "int64\n",
      "1\n",
      "2\n",
      "(5,)\n",
      "(2, 5)\n",
      "5\n",
      "10\n",
      "8\n",
      "8\n",
      "2 3 5 7 11 \n",
      "2 3 5 7 11 \n",
      "2 3 5 7 11 2 3 5 7 11 \n",
      "\n",
      "[0. 0. 0. 0. 0.]\n",
      "[[1 1 1 1]\n",
      " [1 1 1 1]]\n",
      "[[13 13 13 13 13]\n",
      " [13 13 13 13 13]\n",
      " [13 13 13 13 13]]\n",
      "[0 1 2 3 4]\n",
      "[0.         0.11111111 0.22222222 0.33333333 0.44444444 0.55555556\n",
      " 0.66666667 0.77777778 0.88888889 1.        ]\n",
      "[[ 1  2  3  4  5]\n",
      " [ 6  7  8  9 10]\n",
      " [11 12 13 14 15]\n",
      " [16 17 18 19 20]]\n",
      "[[     1      2      3 ...  24998  24999  25000]\n",
      " [ 25001  25002  25003 ...  49998  49999  50000]\n",
      " [ 50001  50002  50003 ...  74998  74999  75000]\n",
      " [ 75001  75002  75003 ...  99998  99999 100000]]\n",
      "[[     1      2      3 ...    998    999   1000]\n",
      " [  1001   1002   1003 ...   1998   1999   2000]\n",
      " [  2001   2002   2003 ...   2998   2999   3000]\n",
      " ...\n",
      " [ 97001  97002  97003 ...  97998  97999  98000]\n",
      " [ 98001  98002  98003 ...  98998  98999  99000]\n",
      " [ 99001  99002  99003 ...  99998  99999 100000]]\n",
      "4.69 s ± 114 ms per loop (mean ± std. dev. of 7 runs, 1 loop each)\n",
      "65.5 ms ± 1.32 ms per loop (mean ± std. dev. of 7 runs, 10 loops each)\n",
      "804 ms ± 10.6 ms per loop (mean ± std. dev. of 7 runs, 1 loop each)\n",
      "8.62 s ± 586 ms per loop (mean ± std. dev. of 7 runs, 1 loop each)\n",
      "71 ms ± 7.9 ms per loop (mean ± std. dev. of 2 runs, 3 loops each)\n"
     ]
    }
   ],
   "source": [
    "import numpy as np\n",
    "import random\n",
    "\n",
    "numbers = np.array([2, 3, 5, 7, 11])\n",
    "twoDim = np.array([[2, 3, 5, 7, 11], [2, 3, 5, 7, 11]])\n",
    "floats = np.array([1/i for i in range(1, 6)])\n",
    "\n",
    "print(floats) # [1.         0.5        0.33333333 0.25       0.2       ]\n",
    "print(type(numbers)) # <class 'numpy.ndarray'>\n",
    "# Checking the type of the numpy array\n",
    "print(numbers.dtype) #  dtype('int64'). printing will result to (int64)\n",
    "\n",
    "# Get the number of dimensions\n",
    "print(numbers.ndim) # 1\n",
    "print(twoDim.ndim) # 2\n",
    "\n",
    "# Get the shape of an array\n",
    "print(numbers.shape) # (5,)\n",
    "print(twoDim.shape) # (2, 5)\n",
    "\n",
    "# Get the size of an array, which is the number of rows * the number of columns\n",
    "print(numbers.size) # (5,) = 5 \n",
    "print(twoDim.size) # (2, 5) = 10\n",
    "\n",
    "# Get the amount of byte that is used to store an item in the array\n",
    "print(numbers.itemsize) # 8\n",
    "print(twoDim.itemsize) # 8\n",
    "\n",
    "# Print the rows and columns in a two-dimensional array\n",
    "for row in twoDim:\n",
    "  for column in row:\n",
    "    print(column, end=' ')\n",
    "  print()\n",
    "# Prints\n",
    "# 2 3 5 7 11 \n",
    "# 2 3 5 7 11\n",
    "\n",
    "# flattening a multi-dimensional array into 1\n",
    "for column in twoDim.flat:\n",
    "  print(column, end=' ') # 2 3 5 7 11 2 3 5 7 11 \n",
    "\n",
    "print('\\n')\n",
    "\n",
    "\"\"\"Filling arrays with specific values\"\"\"\n",
    "zeros = np.zeros(5) #\n",
    "print(zeros, end='\\n') #[0. 0. 0. 0. 0.]\n",
    "\n",
    "# with specific data types\n",
    "ones = np.ones((2, 4), dtype=int)\n",
    "print(ones, end='\\n')\n",
    "# [[1 1 1 1]\n",
    "#  [1 1 1 1]]\n",
    "\n",
    "values = np.full((3, 5), 13)\n",
    "print(values, end='\\n')\n",
    "# [[13 13 13 13 13]\n",
    "#  [13 13 13 13 13]\n",
    "#  [13 13 13 13 13]]\n",
    "\n",
    "\"\"\"Creating arrays from ranges\"\"\"\n",
    "zero_to_five = np.arange(5)\n",
    "print(zero_to_five, end='\\n') # [0 1 2 3 4]\n",
    "five_to_ten = np.arange(5, 10) # [5 6 7 8 9]\n",
    "ten_to_one = np.arange(10, 1, -2) # [10, 8, 6, 4, 2]\n",
    "\n",
    "# Creating a floating\n",
    "floating_np = np.linspace(0.0, 1.0, num=10)\n",
    "print(floating_np, end='\\n') # [0.         0.11111111 0.22222222 0.33333333 0.44444444 0.55555556 0.66666667 0.77777778 0.88888889 1.        ]\n",
    "\n",
    "# Creating a one-dimensional array and reshaping into n-dimensional array\n",
    "reshape = np.arange(1, 21).reshape(4, 5)\n",
    "print(reshape, end='\\n')\n",
    "# [[ 1  2  3  4  5]\n",
    "#  [ 6  7  8  9 10]\n",
    "#  [11 12 13 14 15]\n",
    "#  [16 17 18 19 20]]\n",
    "\n",
    "\n",
    "# If you have more than 1000 elements to in n-dimensions, numpy will summarize the array rather than print all items\n",
    "large_data = np.arange(1, 100001).reshape(4, 25000)\n",
    "print(large_data, end='\\n')\n",
    "# [[     1      2      3 ...  24998  24999  25000]\n",
    "#  [ 25001  25002  25003 ...  49998  49999  50000]\n",
    "#  [ 50001  50002  50003 ...  74998  74999  75000]\n",
    "#  [ 75001  75002  75003 ...  99998  99999 100000]]\n",
    "another_large_data = np.arange(1, 100001).reshape(100, 1000)\n",
    "print(another_large_data, end='\\n')\n",
    "# ...\n",
    "#  [ 97001  97002  97003 ...  97998  97999  98000]\n",
    "#  [ 98001  98002  98003 ...  98998  98999  99000]\n",
    "#  [ 99001  99002  99003 ...  99998  99999 100000]]\n",
    "\n",
    "\n",
    "\"\"\"Performance using ipython magic\"\"\"\n",
    "%timeit rolls_list = [random.randrange(1, 7) for i in range(6_000_000)]\n",
    "# 4.24 s ± 28.5 ms per loop (mean ± std. dev. of 7 runs, 1 loop each)\n",
    "%timeit rolls_array = np.random.randint(1, 7, 6_000_000)\n",
    "# 61.4 ms ± 419 µs per loop (mean ± std. dev. of 7 runs, 10 loops each)\n",
    "%timeit rolls_array = np.random.randint(1, 7, 60_000_000)\n",
    "# 793 ms ± 14.9 ms per loop (mean ± std. dev. of 7 runs, 1 loop each)\n",
    "%timeit rolls_array = np.random.randint(1, 7, 600_000_000)\n",
    "# 7.54 s ± 99.7 ms per loop (mean ± std. dev. of 7 runs, 1 loop each)\n",
    "%timeit -n3 -r2 rolls_array = np.random.randint(1, 7, 6_000_000)\n",
    "# 65.3 ms ± 7.66 ms per loop (mean ± std. dev. of 2 runs, 3 loops each)\n",
    "\n"
   ]
  },
  {
   "cell_type": "markdown",
   "metadata": {},
   "source": [
    "Numpy Array Operators\n"
   ]
  },
  {
   "cell_type": "code",
   "execution_count": 7,
   "metadata": {},
   "outputs": [
    {
     "name": "stdout",
     "output_type": "stream",
     "text": [
      "[1 2 3 4 5]\n",
      "[ 2  4  6  8 10]\n",
      "[1, 2, 3, 4, 5, 1, 2, 3, 4, 5]\n",
      "[[ 1  2  3  4  5]\n",
      " [ 6  7  8  9 10]]\n",
      "[[ 2  4  6  8 10]\n",
      " [12 14 16 18 20]]\n",
      "[1.1 2.2 3.3 4.4 5.5]\n",
      "[ 1.1  4.4  9.9 17.6 27.5]\n",
      "[False False False False False]\n"
     ]
    }
   ],
   "source": [
    "import numpy as np\n",
    "\n",
    "numbers = np.arange(1, 6)\n",
    "new_numbers = numbers * 2 # [2 4 6 8 10]\n",
    "# This is called broadcasting. It is a way to apply an operation to every element in an array\n",
    "# This is equivalent to numbers = numbers * 2\n",
    "# What this is effectively doing is multiplying each element in the array by 2\n",
    "# i.e [1, 2, 3, 4, 5] * 2 = [2, 4, 6, 8, 10]\n",
    "# As you can see, the original array is not modified\n",
    "print(numbers) # [1 2 3 4 5]\n",
    "print(new_numbers) # [ 2  4  6  8 10]\n",
    "# You can also do augmented assignment\n",
    "# numbers *= 2\n",
    "# print(numbers) # [ 2  4  6  8 10]\n",
    "\n",
    "# Doing this with a list will result to increasing the size of the list\n",
    "numbers_without_numpy = [1, 2, 3, 4, 5]\n",
    "numbers_without_numpy *= 2\n",
    "# As you can see, the original list is modified\n",
    "# This is because the list is mutable\n",
    "print(numbers_without_numpy) # [1, 2, 3, 4, 5, 1, 2, 3, 4, 5]\n",
    "\n",
    "# You can also do this with a two-dimensional array\n",
    "twoDim = np.arange(1, 11).reshape(2, 5)\n",
    "print(twoDim)\n",
    "# [[ 1  2  3  4  5]\n",
    "#  [ 6  7  8  9 10]]\n",
    "twoDim *= 2\n",
    "print(twoDim)\n",
    "# [[ 2  4  6  8 10]\n",
    "#  [12 14 16 18 20]]\n",
    "\n",
    "numbers2 = np.linspace(1.1, 5.5, 5)\n",
    "print(numbers2) # [1.1 2.2 3.3 4.4 5.5]\n",
    "numbers * numbers2 # [ 1.1  4.4  9.9 17.6 27.5]\n",
    "print(numbers * numbers2) # [ 1.1  4.4  9.9 17.6 27.5]\n",
    "\n",
    "numbers >= 3 # [False False  True  True  True]\n",
    "numbers2 < numbers # [ True  True False False False]\n",
    "\n",
    "numbers2 == numbers # [False False  False False False]\n",
    "print(numbers2 == numbers) # [False False  False False False]"
   ]
  },
  {
   "cell_type": "markdown",
   "metadata": {},
   "source": [
    "Numpy Calculation Methods"
   ]
  },
  {
   "cell_type": "code",
   "execution_count": 17,
   "metadata": {},
   "outputs": [
    {
     "name": "stdout",
     "output_type": "stream",
     "text": [
      "[[ 87  96  70]\n",
      " [100  87  90]\n",
      " [ 94  77  90]\n",
      " [100  81  82]]\n",
      "[[ 85  92  98  68]\n",
      " [ 61  80  95 100]\n",
      " [ 91  89 100  95]]\n"
     ]
    },
    {
     "data": {
      "text/plain": [
       "array([79.        , 87.        , 97.66666667, 87.66666667])"
      ]
     },
     "execution_count": 17,
     "metadata": {},
     "output_type": "execute_result"
    }
   ],
   "source": [
    "# Descriptive statistics\n",
    "grades = np.array([[87, 96, 70], [100, 87, 90], [94, 77, 90], [100, 81, 82]])\n",
    "print(grades)\n",
    "# [[ 87  96  70]\n",
    "#  [100  87  90]\n",
    "#  [ 94  77  90]\n",
    "#  [100  81  82]]\n",
    "\n",
    "grades.sum() # 1054\n",
    "grades.min() # 70\n",
    "grades.max() # 100\n",
    "grades.mean() # 87.83333333333333\n",
    "grades.std() # 88.792357792739987\n",
    "grades.var() # 77.30555555555556\n",
    "\n",
    "# You can also do this for a specific axis\n",
    "# axis=0 means the columns\n",
    "# axis=1 means the rows\n",
    "grades.sum(axis=0) # array([381, 341, 332])\n",
    "grades.mean(axis=0) # array([ 95.25,  85.25,  83.  ])\n",
    "\n",
    "# Avg for each student\n",
    "grades.mean(axis=1) # array([ 84.33333333,  92.33333333,  87.        ,  87.66666667])\n",
    "\n",
    "# Self-check\n",
    "# Using numpy random-number generation, to create an array of twelve random grades in the range 60-100, then reshape the array into a 3x4 array.\n",
    "# Finally, use the array to print the average of all grades, the average of each test, and the average of each student.\n",
    "\n",
    "student_grades = np.random.randint(60, 101, 12).reshape(3, 4)\n",
    "print(student_grades)\n",
    "student_grades.mean() # 82.25\n",
    "column_grades = student_grades.mean(axis=0) # array([79.        , 87.        , 97.66666667, 87.66666667])\n",
    "each_student_avh = student_grades.mean(axis=1) # array([71.75, 73.75, 81.75])"
   ]
  },
  {
   "cell_type": "markdown",
   "metadata": {},
   "source": [
    "Numpy Universal Function\n"
   ]
  },
  {
   "cell_type": "code",
   "execution_count": 18,
   "metadata": {},
   "outputs": [
    {
     "name": "stdout",
     "output_type": "stream",
     "text": [
      "[10 20 30 40 50 60]\n"
     ]
    },
    {
     "data": {
      "text/plain": [
       "array([[ 20,  80, 180],\n",
       "       [ 80, 200, 360]])"
      ]
     },
     "execution_count": 18,
     "metadata": {},
     "output_type": "execute_result"
    }
   ],
   "source": [
    "numbers = np.array([1, 4, 9, 16, 25, 36,])\n",
    "\n",
    "np.sqrt(numbers) # [ 1.  2.  3.  4.  5.  6.]\n",
    "\n",
    "numbers2 = np.arange(1, 7) * 10\n",
    "print(numbers2) # [10 20 30 40 50 60]\n",
    "np.add(numbers, numbers2) # [11 24 39 56 75 96]\n",
    "\n",
    "np.multiply(numbers2, 5) # [ 50 100 150 200 250 300]\n",
    "\n",
    "numbers3 = numbers2.reshape(2, 3)\n",
    "numbers4 = np.array([2, 4, 6])\n",
    "\n",
    "# Broadcasting can work in multiple dimensions\n",
    "np.multiply(numbers3, numbers4)\n",
    "# array([[ 20,  80, 180],\n",
    "#        [ 80, 200, 360]])"
   ]
  },
  {
   "cell_type": "markdown",
   "metadata": {},
   "source": [
    "Indexing and Slicing in numpy"
   ]
  },
  {
   "cell_type": "code",
   "execution_count": null,
   "metadata": {},
   "outputs": [],
   "source": [
    "grades = np.array([[87, 96, 70], [100, 87, 90], [94, 77, 90], [100, 81, 82]])\n",
    "print(grades)\n",
    "# [[ 87  96  70]\n",
    "#  [100  87  90]\n",
    "#  [ 94  77  90]\n",
    "#  [100  81  82]]\n",
    "\n",
    "# Indexing\n",
    "grades[0, 1] # 96\n",
    "grades[1] # array([100,  87,  90])\n",
    "# Slicing\n",
    "# This will return the first two rows\n",
    "grades[0:2] # array([[ 87,  96,  70], [100,  87,  90]])\n",
    "# Row 1 and 2, column 1\n",
    "grades[0:2, 1] # array([96, 87])\n",
    "# Row 1 and 3\n",
    "grades[[1, 3]] # array([[100,  87,  90], [100,  81,  82]])\n",
    "# All the rows, column 1\n",
    "grades[:, 1] # array([ 96,  87,  77,  81])\n",
    "# All the rows, column 1 and 2\n",
    "grades[:, 1:3] # array([[ 96,  70], [ 87,  90], [ 77,  90], [ 81,  82]])"
   ]
  },
  {
   "cell_type": "markdown",
   "metadata": {},
   "source": [
    "Views: Shallow Copies"
   ]
  },
  {
   "cell_type": "code",
   "execution_count": 25,
   "metadata": {},
   "outputs": [
    {
     "name": "stdout",
     "output_type": "stream",
     "text": [
      "[1 2 3 4 5]\n",
      "[1 2 3 4 5]\n",
      "[ 1 20  3  4  5]\n",
      "[ 1 20  3  4  5]\n"
     ]
    }
   ],
   "source": [
    "numbers = np.arange(1, 6)\n",
    "numbers2 = numbers.view()\n",
    "print(numbers) # [1 2 3 4 5]\n",
    "print(numbers2) # [1 2 3 4 5]\n",
    "\n",
    "id(numbers) # 140404516911312\n",
    "id(numbers2) # 140404485650448\n",
    "\n",
    "# Change the second element of numbers2\n",
    "numbers2[1] *= 10\n",
    "# As you can see, numbers is also changed\n",
    "# This is because numbers2 is a view of numbers\n",
    "# This means that numbers2 is a reference to numbers\n",
    "print(numbers) # [ 1 20  3  4  5]\n",
    "print(numbers2) # [ 1 20  3  4  5]"
   ]
  },
  {
   "cell_type": "markdown",
   "metadata": {},
   "source": [
    "Deep Copies"
   ]
  },
  {
   "cell_type": "code",
   "execution_count": 27,
   "metadata": {},
   "outputs": [
    {
     "name": "stdout",
     "output_type": "stream",
     "text": [
      "[1 2 3 4 5]\n",
      "[1 2 3 4 5]\n",
      "[1 2 3 4 5]\n",
      "[ 1 20  3  4  5]\n"
     ]
    }
   ],
   "source": [
    "numbers = np.arange(1, 6)\n",
    "numbers2 = numbers.copy()\n",
    "print(numbers) # [1 2 3 4 5]\n",
    "print(numbers2) # [1 2 3 4 5]\n",
    "\n",
    "numbers2[1] *= 10\n",
    "print(numbers) # [ 1 2 3 4 5]\n",
    "print(numbers2) # [ 1 20  3  4  5]"
   ]
  }
 ],
 "metadata": {
  "kernelspec": {
   "display_name": "Python 3.9.7 ('base')",
   "language": "python",
   "name": "python3"
  },
  "language_info": {
   "codemirror_mode": {
    "name": "ipython",
    "version": 3
   },
   "file_extension": ".py",
   "mimetype": "text/x-python",
   "name": "python",
   "nbconvert_exporter": "python",
   "pygments_lexer": "ipython3",
   "version": "3.9.7"
  },
  "orig_nbformat": 4,
  "vscode": {
   "interpreter": {
    "hash": "cd78fef2128015050713e82ca51c6520b11aee7c9ee8df750520bbbc7384cbaa"
   }
  }
 },
 "nbformat": 4,
 "nbformat_minor": 2
}
