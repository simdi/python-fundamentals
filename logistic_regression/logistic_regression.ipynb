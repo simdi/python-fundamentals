{
 "cells": [
  {
   "cell_type": "code",
   "execution_count": 3,
   "metadata": {},
   "outputs": [
    {
     "ename": "AxisError",
     "evalue": "axis 1 is out of bounds for array of dimension 1",
     "output_type": "error",
     "traceback": [
      "\u001b[0;31m---------------------------------------------------------------------------\u001b[0m",
      "\u001b[0;31mAxisError\u001b[0m                                 Traceback (most recent call last)",
      "\u001b[1;32m/Users/chisimdi/Desktop/projects/python-projects/python-fundamentals/logistic_regression/logistic_regression.ipynb Cell 1\u001b[0m in \u001b[0;36m<cell line: 38>\u001b[0;34m()\u001b[0m\n\u001b[1;32m     <a href='vscode-notebook-cell:/Users/chisimdi/Desktop/projects/python-projects/python-fundamentals/logistic_regression/logistic_regression.ipynb#W0sZmlsZQ%3D%3D?line=34'>35</a>\u001b[0m   \u001b[39mprint\u001b[39m(w)\n\u001b[1;32m     <a href='vscode-notebook-cell:/Users/chisimdi/Desktop/projects/python-projects/python-fundamentals/logistic_regression/logistic_regression.ipynb#W0sZmlsZQ%3D%3D?line=35'>36</a>\u001b[0m   plot_logistic_regression(X2, Y, w)\n\u001b[0;32m---> <a href='vscode-notebook-cell:/Users/chisimdi/Desktop/projects/python-projects/python-fundamentals/logistic_regression/logistic_regression.ipynb#W0sZmlsZQ%3D%3D?line=37'>38</a>\u001b[0m main()\n",
      "\u001b[1;32m/Users/chisimdi/Desktop/projects/python-projects/python-fundamentals/logistic_regression/logistic_regression.ipynb Cell 1\u001b[0m in \u001b[0;36mmain\u001b[0;34m()\u001b[0m\n\u001b[1;32m     <a href='vscode-notebook-cell:/Users/chisimdi/Desktop/projects/python-projects/python-fundamentals/logistic_regression/logistic_regression.ipynb#W0sZmlsZQ%3D%3D?line=29'>30</a>\u001b[0m \u001b[39mdef\u001b[39;00m \u001b[39mmain\u001b[39m():\n\u001b[0;32m---> <a href='vscode-notebook-cell:/Users/chisimdi/Desktop/projects/python-projects/python-fundamentals/logistic_regression/logistic_regression.ipynb#W0sZmlsZQ%3D%3D?line=30'>31</a>\u001b[0m   w \u001b[39m=\u001b[39m logistic_regression(X1, Y)\n\u001b[1;32m     <a href='vscode-notebook-cell:/Users/chisimdi/Desktop/projects/python-projects/python-fundamentals/logistic_regression/logistic_regression.ipynb#W0sZmlsZQ%3D%3D?line=31'>32</a>\u001b[0m   \u001b[39mprint\u001b[39m(w)\n\u001b[1;32m     <a href='vscode-notebook-cell:/Users/chisimdi/Desktop/projects/python-projects/python-fundamentals/logistic_regression/logistic_regression.ipynb#W0sZmlsZQ%3D%3D?line=32'>33</a>\u001b[0m   plot_logistic_regression(X1, Y, w)\n",
      "\u001b[1;32m/Users/chisimdi/Desktop/projects/python-projects/python-fundamentals/logistic_regression/logistic_regression.ipynb Cell 1\u001b[0m in \u001b[0;36mlogistic_regression\u001b[0;34m(x, y, learning_rate, n_iter)\u001b[0m\n\u001b[1;32m     <a href='vscode-notebook-cell:/Users/chisimdi/Desktop/projects/python-projects/python-fundamentals/logistic_regression/logistic_regression.ipynb#W0sZmlsZQ%3D%3D?line=11'>12</a>\u001b[0m \u001b[39mdef\u001b[39;00m \u001b[39mlogistic_regression\u001b[39m(x, y, learning_rate\u001b[39m=\u001b[39m\u001b[39m0.01\u001b[39m, n_iter\u001b[39m=\u001b[39m\u001b[39m2000\u001b[39m):\n\u001b[0;32m---> <a href='vscode-notebook-cell:/Users/chisimdi/Desktop/projects/python-projects/python-fundamentals/logistic_regression/logistic_regression.ipynb#W0sZmlsZQ%3D%3D?line=12'>13</a>\u001b[0m   x \u001b[39m=\u001b[39m np\u001b[39m.\u001b[39;49minsert(x, \u001b[39m0\u001b[39;49m, values\u001b[39m=\u001b[39;49m\u001b[39m1\u001b[39;49m, axis\u001b[39m=\u001b[39;49m\u001b[39m1\u001b[39;49m)\n\u001b[1;32m     <a href='vscode-notebook-cell:/Users/chisimdi/Desktop/projects/python-projects/python-fundamentals/logistic_regression/logistic_regression.ipynb#W0sZmlsZQ%3D%3D?line=13'>14</a>\u001b[0m   w \u001b[39m=\u001b[39m np\u001b[39m.\u001b[39mzeros(x\u001b[39m.\u001b[39mshape[\u001b[39m1\u001b[39m])\n\u001b[1;32m     <a href='vscode-notebook-cell:/Users/chisimdi/Desktop/projects/python-projects/python-fundamentals/logistic_regression/logistic_regression.ipynb#W0sZmlsZQ%3D%3D?line=14'>15</a>\u001b[0m   \u001b[39mfor\u001b[39;00m i \u001b[39min\u001b[39;00m \u001b[39mrange\u001b[39m(n_iter):\n",
      "File \u001b[0;32m<__array_function__ internals>:5\u001b[0m, in \u001b[0;36minsert\u001b[0;34m(*args, **kwargs)\u001b[0m\n",
      "File \u001b[0;32m/Applications/anaconda3/lib/python3.9/site-packages/numpy/lib/function_base.py:4601\u001b[0m, in \u001b[0;36minsert\u001b[0;34m(arr, obj, values, axis)\u001b[0m\n\u001b[1;32m   4599\u001b[0m     axis \u001b[39m=\u001b[39m ndim \u001b[39m-\u001b[39m \u001b[39m1\u001b[39m\n\u001b[1;32m   4600\u001b[0m \u001b[39melse\u001b[39;00m:\n\u001b[0;32m-> 4601\u001b[0m     axis \u001b[39m=\u001b[39m normalize_axis_index(axis, ndim)\n\u001b[1;32m   4602\u001b[0m slobj \u001b[39m=\u001b[39m [\u001b[39mslice\u001b[39m(\u001b[39mNone\u001b[39;00m)]\u001b[39m*\u001b[39mndim\n\u001b[1;32m   4603\u001b[0m N \u001b[39m=\u001b[39m arr\u001b[39m.\u001b[39mshape[axis]\n",
      "\u001b[0;31mAxisError\u001b[0m: axis 1 is out of bounds for array of dimension 1"
     ]
    }
   ],
   "source": [
    "import numpy as np\n",
    "import matplotlib.pyplot as plt\n",
    "\n",
    "X1 = np.array([2.7810836, 1.465489372, 3.396561688, 1.38807019, 3.06407232, 7.627531214, 5.332441248, 6.922596716, 8.675418651, 7.673756466])\n",
    "X2 = np.array([2.550537003, 2.362125076, 4.400293529, 1.850220317, 3.005305973,2.759262235,2.088626775, 1.77106367, -0.242068655, 3.508563011])\n",
    "Y = np.array([0, 0, 0, 0, 0, 1, 1, 1, 1, 1])\n",
    "\n",
    "# Path: logistic_regression/logistic_regression.ipynb\n",
    "def sigmoid(x):\n",
    "  return 1 / (1 + np.exp(-x))\n",
    "\n",
    "def logistic_regression(x, y, learning_rate=0.01, n_iter=2000):\n",
    "  x = np.insert(x, 0, values=1, axis=1)\n",
    "  w = np.zeros(x.shape[1])\n",
    "  for i in range(n_iter):\n",
    "    y_pred = sigmoid(np.dot(x, w))\n",
    "    grad = np.dot(x.T, (y_pred - y)) / y.size\n",
    "    w -= learning_rate * grad\n",
    "  return w\n",
    "\n",
    "def plot_logistic_regression(x, y, w):\n",
    "  plt.scatter(x[:, 1], y, c='r', marker='x', label='data')\n",
    "  x_min, x_max = x[:, 1].min() - 1, x[:, 1].max() + 1\n",
    "  xx = np.linspace(x_min, x_max, 100)\n",
    "  yy = sigmoid(w[0] + w[1] * xx)\n",
    "  plt.plot(xx, yy, label='logistic regression')\n",
    "  plt.legend()\n",
    "  plt.show()\n",
    "\n",
    "def main():\n",
    "  w = logistic_regression(X1, Y)\n",
    "  print(w)\n",
    "  plot_logistic_regression(X1, Y, w)\n",
    "  w = logistic_regression(X2, Y)\n",
    "  print(w)\n",
    "  plot_logistic_regression(X2, Y, w)\n",
    "\n",
    "main()"
   ]
  }
 ],
 "metadata": {
  "kernelspec": {
   "display_name": "Python 3.9.7 ('base')",
   "language": "python",
   "name": "python3"
  },
  "language_info": {
   "codemirror_mode": {
    "name": "ipython",
    "version": 3
   },
   "file_extension": ".py",
   "mimetype": "text/x-python",
   "name": "python",
   "nbconvert_exporter": "python",
   "pygments_lexer": "ipython3",
   "version": "3.9.7"
  },
  "orig_nbformat": 4,
  "vscode": {
   "interpreter": {
    "hash": "cd78fef2128015050713e82ca51c6520b11aee7c9ee8df750520bbbc7384cbaa"
   }
  }
 },
 "nbformat": 4,
 "nbformat_minor": 2
}
