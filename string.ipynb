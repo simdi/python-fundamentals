{
 "cells": [
  {
   "cell_type": "markdown",
   "metadata": {},
   "source": [
    "String Presentation"
   ]
  },
  {
   "cell_type": "code",
   "execution_count": 5,
   "metadata": {},
   "outputs": [
    {
     "data": {
      "text/plain": [
       "'17.49 10 A hello'"
      ]
     },
     "execution_count": 5,
     "metadata": {},
     "output_type": "execute_result"
    }
   ],
   "source": [
    "f'{17.489:.2f}' # 17.49 - 2 decimal places\n",
    "f'{17.489:.3f}' # 17.489 - 3 decimal places\n",
    "f'{17.489:.4f}' # 17.4890 - 4 decimal places\n",
    "f'{10:d}' # 10 - integer\n",
    "f'{10:05d}' # 00010 - integer with 5 digits\n",
    "f'{65:c} {97:c}' # 'A a' - character\n",
    "f'{\"hello\":s} {7}' # 'hello 7' - string\n",
    "\n",
    "f'[{\"Amanda\":<10s}]' # '[Amanda     ]' - left aligned\n",
    "f'[{\"Amanda\":>10s}]' # '[     Amanda]' - right aligned\n",
    "f'[{\"Amanda\":^10s}]' # '[  Amanda   ]' - center aligned\n",
    "\n",
    "# Format a string using the format method\n",
    "'{0:.2f} {1:d} {2:c} {3:s}'.format(17.489, 10, 65, 'hello') # '17.49 10 A hello'\n",
    "'{0} {0} {1}'.format('Happy', 'Birthday') # 'Happy Happy Birthday'\n",
    "'{first} {last}'.format(first='Amanda', last='Smith') # 'Amanda Smith'\n",
    "\n",
    "'[{0:<10s}] [{0:>10s}] [{0:^10s}]'.format('Amanda') # '[Amanda     ] [     Amanda] [  Amanda   ]'\n",
    "\n",
    "# Format a string using the % operator\n",
    "'%.2f %d %c %s' % (17.489, 10, 65, 'hello') # '17.49 10 A hello'"
   ]
  },
  {
   "cell_type": "markdown",
   "metadata": {},
   "source": [
    "String: Concatenation and Repeating strings"
   ]
  },
  {
   "cell_type": "code",
   "execution_count": 11,
   "metadata": {},
   "outputs": [
    {
     "name": "stdout",
     "output_type": "stream",
     "text": [
      "******************\n",
      "Chisimdi Ezeanieto\n",
      "******************\n"
     ]
    }
   ],
   "source": [
    "s1 = 'Happy'\n",
    "s2 = 'Birthday'\n",
    "s3 = s1 # s3 is a reference to s1\n",
    "\n",
    "s1 += ' ' + s2 # 'Happy Birthday'\n",
    "s3 # 'Happy' Since s3 is a reference to s1, s3 is not changed\n",
    "\n",
    "symbol = '>'\n",
    "symbol *= 5 # '>>>>>'\n",
    "symbol # '>>>>>'\n",
    "\n",
    "firstName = 'Chisimdi'\n",
    "lastName = 'Ezeanieto'\n",
    "fullName = firstName + ' ' + lastName # 'Chisimdi Ezeanieto'\n",
    "bar = '*'\n",
    "bar *= len(fullName) # '****************'\n",
    "print(f'{bar}\\n{fullName}\\n{bar}')\n",
    "# ******************\n",
    "# Chisimdi Ezeanieto\n",
    "# ******************"
   ]
  },
  {
   "cell_type": "code",
   "execution_count": 43,
   "metadata": {},
   "outputs": [
    {
     "name": "stdout",
     "output_type": "stream",
     "text": [
      "to to that the "
     ]
    },
    {
     "data": {
      "text/plain": [
       "'C:\\\\Users\\\\chisimdi\\\\Desktop\\\\Python\\\\Python-Programming-Exercises\\\\Chapter 3\\\\3.10.py'"
      ]
     },
     "execution_count": 43,
     "metadata": {},
     "output_type": "execute_result"
    }
   ],
   "source": [
    "sentence = '\\t \\n This is a test sentence. \\t \\n'\n",
    "\n",
    "sentence.strip() # 'This is a test sentence.'\n",
    "sentence.lstrip() # 'This is a test sentence. \\t \\n'\n",
    "sentence.rstrip() # '\\t \\n This is a test sentence.'\n",
    "\n",
    "# Changing Character Case\n",
    "'Happy Birthday'.lower() # 'happy birthday'\n",
    "'Happy Birthday'.upper() # 'HAPPY BIRTHDAY'\n",
    "'Happy Birthday'.capitalize() # 'Happy birthday'\n",
    "'Happy Birthday'.title() # 'Happy Birthday'\n",
    "\n",
    "# Comparison Operators for strings\n",
    "'Happy' == 'Happy' # True\n",
    "'Happy' == 'happy' # False\n",
    "'Happy' != 'happy' # True\n",
    "'Happy' < 'happy' # True\n",
    "'Happy' > 'happy' # False\n",
    "\n",
    "# Searching for substrings\n",
    "sentence = 'to be or not to be that is the question'\n",
    "sentence.count('be') # 2\n",
    "sentence.count('be', 14, 25) # 1\n",
    "\n",
    "# Searching for substrings\n",
    "# The find method returns the index of the first occurrence of the substring\n",
    "# The difference between find and index is that find returns -1 if the substring is not found\n",
    "# while index raises an exception\n",
    "sentence.find('be') # 3\n",
    "sentence.rfind('be') # 16\n",
    "# Search for the first occurrence of 'be'. The index of the first character in the substring is returned.\n",
    "sentence.index('be') # 3\n",
    "# Search for the index of a substring in reverse order\n",
    "sentence.rindex('be') # 16\n",
    "\n",
    "'that' in sentence # True\n",
    "'not' not in sentence # False\n",
    "'THAT' in sentence # False\n",
    "'THAT' not in sentence # True\n",
    "\n",
    "# The startswith and endswith methods return True if the string starts or ends with the specified prefix or suffix\n",
    "sentence.startswith('to') # True\n",
    "sentence.endswith('question') # True\n",
    "\n",
    "# The isalpha, isdigit, isalnum, isspace, and islower methods return True if all the characters in the string are alphabetic, digits, alphanumeric, whitespace, or lowercase, respectively\n",
    "'Happy'.isalpha() # True\n",
    "'Happy'.isdigit() # False\n",
    "'Happy'.isalnum() # True\n",
    "'Happy'.isspace() # False\n",
    "'Happy'.islower() # False\n",
    "\n",
    "# Self-Check\n",
    "# Create a loop that locates and displays every word that starts with 't' in the string\n",
    "sentence = 'to be or not to be that is the question'\n",
    "for word in sentence.split():\n",
    "    if word.startswith('t'):\n",
    "        print(word,  end=' ')\n",
    "\n",
    "\n",
    "values = '1\\t2\\t3\\t4\\t5\\t6\\t7\\t8\\t9\\t10'\n",
    "# This will not modify the original string, it will return a new string\n",
    "values.replace('\\t', ',') # '1,2,3,4,5,6,7,8,9,10'\n",
    "\n",
    "# Self-Check\n",
    "# Replace the spaces in the string '1 2 3 4 5 6 7 8 9 10' with ' --> '\n",
    "values = '1 2 3 4 5 6 7 8 9 10'\n",
    "values.replace(' ', ' --> ') # '1 --> 2 --> 3 --> 4 --> 5 --> 6 --> 7 --> 8 --> 9 --> 10'\n",
    "\n",
    "# Splitting and Joining Strings\n",
    "letters = 'A, B, C, D'\n",
    "letters.split(', ') # ['A', 'B', 'C', 'D']\n",
    "# Only split the first two occurrences of ', '\n",
    "letters.split(', ', 2) # ['A', 'B', 'C, D']'\n",
    "\n",
    "# Joining a list of strings\n",
    "letters_list = ['A', 'B', 'C', 'D']\n",
    "', '.join(letters_list) # 'A, B, C, D'\n",
    "','.join([str(i) for i in range(10)]) # '1,2,3,4,5,6,7,8,9,10'\n",
    "\n",
    "# Partitioning Strings\n",
    "# The partition method returns a tuple containing the prefix, separator, and suffix\n",
    "'Amanda: 89, 92, 100'.partition(': ') # ('Amanda', ': ', '89, 92, 100')\n",
    "url = 'http://www.deitel.com/books/PyCDS/table_of_contents.html'\n",
    "rest_of_url, separator, document = url.rpartition('/')\n",
    "rest_of_url # 'http://www.deitel.com/books/PyCDS'\n",
    "separator # '/'\n",
    "document # 'table_of_contents.html'\n",
    "\n",
    "# The splitlines method splits a string into a list of strings, one for each line\n",
    "# The default is to split on the newline character\n",
    "# The keepends argument determines whether the newline characters are included in the resulting list\n",
    "# The default is False\n",
    "paragraph = '''This is a test paragraph.\n",
    "It is made up of two lines.\n",
    "'''\n",
    "paragraph.splitlines() # ['This is a test paragraph.', 'It is made up of two lines.']\n",
    "paragraph.splitlines(True) # ['This is a test paragraph.\\n', 'It is made up of two lines.\\n']\n",
    "\n",
    "# Self-Check\n",
    "# Use Split and join in the statement to reformat the following string\n",
    "', '.join(reversed('Pamela White'.split())) # 'White, Pamela'\n",
    "\n",
    "\n",
    "# Raw Strings\n",
    "# A raw string is a string that is prefixed with an r\n",
    "# Raw strings are useful when you want to include a backslash in a string\n",
    "# The backslash is not treated as an escape character\n",
    "file_path = r'C:\\Users\\chisimdi\\Desktop\\Python\\Python-Programming-Exercises\\Chapter 3\\3.10.py'\n",
    "file_path # 'C:\\\\Users\\\\chisimdi\\\\Desktop\\\\Python\\\\Python-Programming-Exercises\\\\Chapter 3\\\\3.10.py'\n",
    "# This is the same as\n",
    "file_path = 'C:\\\\Users\\\\chisimdi\\\\Desktop\\\\Python\\\\Python-Programming-Exercises\\\\Chapter 3\\\\3.10.py'\n",
    "file_path # 'C:\\\\Users\\\\chisimdi\\\\Desktop\\\\Python\\\\Python-Programming-Exercises\\\\Chapter 3\\\\3.10.py'\n",
    "\n"
   ]
  }
 ],
 "metadata": {
  "kernelspec": {
   "display_name": "Python 3.10.2 64-bit",
   "language": "python",
   "name": "python3"
  },
  "language_info": {
   "codemirror_mode": {
    "name": "ipython",
    "version": 3
   },
   "file_extension": ".py",
   "mimetype": "text/x-python",
   "name": "python",
   "nbconvert_exporter": "python",
   "pygments_lexer": "ipython3",
   "version": "3.10.2"
  },
  "orig_nbformat": 4,
  "vscode": {
   "interpreter": {
    "hash": "aee8b7b246df8f9039afb4144a1f6fd8d2ca17a180786b69acc140d282b71a49"
   }
  }
 },
 "nbformat": 4,
 "nbformat_minor": 2
}
